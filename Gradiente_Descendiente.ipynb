{
  "nbformat": 4,
  "nbformat_minor": 0,
  "metadata": {
    "colab": {
      "name": "Gradiente_Descendiente.ipynb",
      "provenance": [],
      "collapsed_sections": [],
      "authorship_tag": "ABX9TyOwx8P259LQ0ILFiHZYX9wr",
      "include_colab_link": true
    },
    "kernelspec": {
      "name": "python3",
      "display_name": "Python 3"
    },
    "accelerator": "GPU"
  },
  "cells": [
    {
      "cell_type": "markdown",
      "metadata": {
        "id": "view-in-github",
        "colab_type": "text"
      },
      "source": [
        "<a href=\"https://colab.research.google.com/github/fernando12170209/Machine_learning_basico/blob/master/Gradiente_Descendiente.ipynb\" target=\"_parent\"><img src=\"https://colab.research.google.com/assets/colab-badge.svg\" alt=\"Open In Colab\"/></a>"
      ]
    },
    {
      "cell_type": "code",
      "metadata": {
        "id": "yzaKHqSNP1hR",
        "colab_type": "code",
        "colab": {}
      },
      "source": [
        "import matplotlib.pyplot as plt\n",
        "from numpy.random import randint\n",
        "from numpy import linspace\n"
      ],
      "execution_count": null,
      "outputs": []
    },
    {
      "cell_type": "markdown",
      "metadata": {
        "id": "H7iPRA7CQA8N",
        "colab_type": "text"
      },
      "source": [
        "# Ejemplo del gradiente descendente aplicado a la función y = x^2 + 1\n",
        "# La ecuación matemática para el gradiente (derivada) es = 2*x"
      ]
    },
    {
      "cell_type": "code",
      "metadata": {
        "id": "X1VKFnsoQFO8",
        "colab_type": "code",
        "colab": {}
      },
      "source": [
        "x_inicial = randint(10)\n",
        "alpha = 0.1 #learning rate, step o tamaño de paso\n",
        "n_iteraciones = 15\n",
        "\n",
        "iteraciones = []\n",
        "y = []\n",
        "\n",
        "x = x_inicial"
      ],
      "execution_count": null,
      "outputs": []
    },
    {
      "cell_type": "code",
      "metadata": {
        "id": "eoiC4nJwQJ3c",
        "colab_type": "code",
        "colab": {
          "base_uri": "https://localhost:8080/",
          "height": 817
        },
        "outputId": "ef96dd1f-5d02-4d0a-ecc4-2116f2d3b248"
      },
      "source": [
        "for i in range(n_iteraciones):\n",
        "\tprint('------------------------')\n",
        "\tprint('iteración ', str(i+1))\n",
        "\n",
        "\t# Calcular gradiente\n",
        "\tgradiente = 2*x\n",
        "\n",
        "\t# Actualizar \"x\" usando gradiente descendente\n",
        "\tx = x - alpha*gradiente\n",
        "\n",
        "\t# Almacenar iteración y valor correspondiente\n",
        "\ty.append(x**2 + 1)\n",
        "\titeraciones.append(i+1)\n",
        "\n",
        "\t# Imprimir resultados\n",
        "\tprint('x = ', str(x), ', y = ', str(x**2+1))"
      ],
      "execution_count": null,
      "outputs": [
        {
          "output_type": "stream",
          "text": [
            "------------------------\n",
            "iteración  1\n",
            "x =  4.8 , y =  24.04\n",
            "------------------------\n",
            "iteración  2\n",
            "x =  3.84 , y =  15.7456\n",
            "------------------------\n",
            "iteración  3\n",
            "x =  3.072 , y =  10.437184\n",
            "------------------------\n",
            "iteración  4\n",
            "x =  2.4576000000000002 , y =  7.039797760000001\n",
            "------------------------\n",
            "iteración  5\n",
            "x =  1.9660800000000003 , y =  4.865470566400001\n",
            "------------------------\n",
            "iteración  6\n",
            "x =  1.5728640000000003 , y =  3.473901162496001\n",
            "------------------------\n",
            "iteración  7\n",
            "x =  1.2582912000000002 , y =  2.5832967439974404\n",
            "------------------------\n",
            "iteración  8\n",
            "x =  1.0066329600000001 , y =  2.013309916158362\n",
            "------------------------\n",
            "iteración  9\n",
            "x =  0.8053063680000001 , y =  1.6485183463413517\n",
            "------------------------\n",
            "iteración  10\n",
            "x =  0.6442450944000001 , y =  1.415051741658465\n",
            "------------------------\n",
            "iteración  11\n",
            "x =  0.5153960755200001 , y =  1.2656331146614177\n",
            "------------------------\n",
            "iteración  12\n",
            "x =  0.4123168604160001 , y =  1.1700051933833073\n",
            "------------------------\n",
            "iteración  13\n",
            "x =  0.32985348833280004 , y =  1.1088033237653168\n",
            "------------------------\n",
            "iteración  14\n",
            "x =  0.26388279066624004 , y =  1.0696341272098027\n",
            "------------------------\n",
            "iteración  15\n",
            "x =  0.21110623253299204 , y =  1.0445658414142738\n"
          ],
          "name": "stdout"
        }
      ]
    },
    {
      "cell_type": "code",
      "metadata": {
        "id": "Xv-eYIKqQM2E",
        "colab_type": "code",
        "colab": {
          "base_uri": "https://localhost:8080/",
          "height": 282
        },
        "outputId": "9682f29e-cb6c-4068-d9b0-cbcf386ac8e7"
      },
      "source": [
        "plt.subplot(1,2,1)\n",
        "plt.plot(iteraciones,y)\n",
        "plt.xlabel('Iteración')\n",
        "plt.ylabel('y')\n",
        "\n",
        "#Grafica de la funcion Y entre los puntos X [-5,5]\n",
        "X = linspace(-5,5,100)\n",
        "Y = X**2 + 1\n",
        "plt.subplot(1,2,2)\n",
        "plt.plot(X,Y,0.0,1.0,'ro')\n",
        "plt.xlabel('x')\n",
        "plt.ylabel('y')\n",
        "plt.show()"
      ],
      "execution_count": null,
      "outputs": [
        {
          "output_type": "display_data",
          "data": {
            "image/png": "[encoded data removed]",
            "text/plain": [
              "<Figure size 432x288 with 2 Axes>"
            ]
          },
          "metadata": {
            "tags": [],
            "needs_background": "light"
          }
        }
      ]
    },
    {
      "cell_type": "code",
      "metadata": {
        "id": "BAGAHtzDQUT2",
        "colab_type": "code",
        "colab": {
          "base_uri": "https://localhost:8080/",
          "height": 279
        },
        "outputId": "9813cbf5-477f-4ebc-feb9-fab9521b12a4"
      },
      "source": [
        ""
      ],
      "execution_count": null,
      "outputs": [
        {
          "output_type": "display_data",
          "data": {
            "image/png": "[encoded data removed]",
            "text/plain": [
              "<Figure size 432x288 with 1 Axes>"
            ]
          },
          "metadata": {
            "tags": [],
            "needs_background": "light"
          }
        }
      ]
    }
  ]
}