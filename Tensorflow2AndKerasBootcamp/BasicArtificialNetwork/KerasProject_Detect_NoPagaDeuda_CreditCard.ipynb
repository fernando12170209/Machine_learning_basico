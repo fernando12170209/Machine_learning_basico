{
  "nbformat": 4,
  "nbformat_minor": 0,
  "metadata": {
    "colab": {
      "name": "KerasProject_Detect_NoPagaDeuda_CreditCard.ipynb",
      "provenance": [],
      "collapsed_sections": [],
      "authorship_tag": "ABX9TyPbjLu/8z+KznBJh6PvkpLh",
      "include_colab_link": true
    },
    "kernelspec": {
      "name": "python3",
      "display_name": "Python 3"
    },
    "accelerator": "GPU"
  },
  "cells": [
    {
      "cell_type": "markdown",
      "metadata": {
        "id": "view-in-github",
        "colab_type": "text"
      },
      "source": [
        "<a href=\"https://colab.research.google.com/github/fernando12170209/Machine_learning_basico/blob/master/Tensorflow2AndKerasBootcamp/BasicArtificialNetwork/KerasProject_Detect_NoPagaDeuda_CreditCard.ipynb\" target=\"_parent\"><img src=\"https://colab.research.google.com/assets/colab-badge.svg\" alt=\"Open In Colab\"/></a>"
      ]
    },
    {
      "cell_type": "markdown",
      "metadata": {
        "id": "EWUup9esLKUE",
        "colab_type": "text"
      },
      "source": [
        "##Teoria necesaria\n",
        "#Matriz de confusion\n",
        "references: https://www.aprendemachinelearning.com/clasificacion-con-datos-desbalanceados/\n",
        "\n",
        "https://www.superprof.es/diccionario/matematicas/estadistica/error-tipo.html#:~:text=El%20error%20de%20tipo%20I,consecuencia%20del%20contraste%2C%20se%20rechaza.&text=error%20de%20tipo%20II%20se,consecuencia%20del%20contraste%20se%20acepta.&text=La%20probabilidad%20de%20cometer%20Error,el%20nivel%20de%20significaci%C3%B3n%20%CE%B1.\n",
        "\n",
        "\n",
        "https://www.juanbarrios.com/la-matriz-de-confusion-y-sus-metricas/\n",
        "\n",
        "https://ligdigonzalez.com/matriz-de-confusion-machine-learning/\n",
        "\n",
        "\n",
        "Tenemos cuatro casos posibles para cada clase:\n",
        "\n",
        "Alta precision y alto recall: el modelo maneja perfectamente esa clase\n",
        "Alta precision y bajo recall: el modelo no detecta la clase muy bien, pero cuando lo hace es altamente confiable.\n",
        "Baja precisión y alto recall: La clase detecta bien la clase pero también incluye muestras de otras clases.\n",
        "Baja precisión y bajo recall: El modelo no logra clasificar la clase correctamente."
      ]
    },
    {
      "cell_type": "code",
      "metadata": {
        "id": "Q3paIUNHK_9Z",
        "colab_type": "code",
        "colab": {}
      },
      "source": [
        "import pandas as pd\n",
        "\n"
      ],
      "execution_count": 3,
      "outputs": []
    },
    {
      "cell_type": "code",
      "metadata": {
        "id": "_wQe5X95dL-4",
        "colab_type": "code",
        "colab": {
          "resources": {
            "http://localhost:8080/nbextensions/google.colab/files.js": {
              "data": "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",
              "ok": true,
              "headers": [
                [
                  "content-type",
                  "application/javascript"
                ]
              ],
              "status": 200,
              "status_text": ""
            }
          },
          "base_uri": "https://localhost:8080/",
          "height": 73
        },
        "outputId": "80d2d19d-d57c-4282-a48d-5e53bd8bdc30"
      },
      "source": [
        "#import file\n",
        "#Para cargar los archivos desde la plataforma, ver archivo en github\n",
        "\n",
        "from google.colab import files\n",
        "file = files.upload()\n",
        "#"
      ],
      "execution_count": 5,
      "outputs": [
        {
          "output_type": "display_data",
          "data": {
            "text/html": [
              "\n",
              "     <input type=\"file\" id=\"files-de9bc1d3-c79a-47d0-bd6e-20012b15da45\" name=\"files[]\" multiple disabled\n",
              "        style=\"border:none\" />\n",
              "     <output id=\"result-de9bc1d3-c79a-47d0-bd6e-20012b15da45\">\n",
              "      Upload widget is only available when the cell has been executed in the\n",
              "      current browser session. Please rerun this cell to enable.\n",
              "      </output>\n",
              "      <script src=\"/nbextensions/google.colab/files.js\"></script> "
            ],
            "text/plain": [
              "<IPython.core.display.HTML object>"
            ]
          },
          "metadata": {
            "tags": []
          }
        },
        {
          "output_type": "stream",
          "text": [
            "Saving lending_club_info.csv to lending_club_info.csv\n"
          ],
          "name": "stdout"
        }
      ]
    },
    {
      "cell_type": "code",
      "metadata": {
        "id": "7Sw9MfOEI32R",
        "colab_type": "code",
        "colab": {}
      },
      "source": [
        "data_info = pd.read_csv('lending_club_info.csv',index_col='LoanStatNew')"
      ],
      "execution_count": 13,
      "outputs": []
    },
    {
      "cell_type": "code",
      "metadata": {
        "id": "qhsdUi0uJAzq",
        "colab_type": "code",
        "colab": {
          "base_uri": "https://localhost:8080/",
          "height": 35
        },
        "outputId": "7c634d59-86b5-49bc-9b76-d4306eb4de8f"
      },
      "source": [
        "print(data_info.loc['revol_util']['Description'])"
      ],
      "execution_count": 7,
      "outputs": [
        {
          "output_type": "stream",
          "text": [
            "Revolving line utilization rate, or the amount of credit the borrower is using relative to all available revolving credit.\n"
          ],
          "name": "stdout"
        }
      ]
    },
    {
      "cell_type": "code",
      "metadata": {
        "id": "dLTvD5ajJFmt",
        "colab_type": "code",
        "colab": {}
      },
      "source": [
        "def feat_info(col_name):\n",
        "    print(data_info.loc[col_name]['Description'])"
      ],
      "execution_count": 14,
      "outputs": []
    },
    {
      "cell_type": "code",
      "metadata": {
        "id": "eOq0aK6TJI9K",
        "colab_type": "code",
        "colab": {
          "base_uri": "https://localhost:8080/",
          "height": 35
        },
        "outputId": "f7f04cdc-5e43-4bd0-e919-ac3222078da3"
      },
      "source": [
        "feat_info('mort_acc')"
      ],
      "execution_count": 15,
      "outputs": [
        {
          "output_type": "stream",
          "text": [
            "Number of mortgage accounts.\n"
          ],
          "name": "stdout"
        }
      ]
    },
    {
      "cell_type": "markdown",
      "metadata": {
        "id": "ecwgfzdtKjPF",
        "colab_type": "text"
      },
      "source": [
        "##Loading the data and other imports"
      ]
    },
    {
      "cell_type": "code",
      "metadata": {
        "id": "CpepSRpcJhEp",
        "colab_type": "code",
        "colab": {}
      },
      "source": [
        "import pandas as pd\n",
        "import numpy as np\n",
        "import matplotlib.pyplot as plt\n",
        "import seaborn as sns\n",
        "\n",
        "# might be needed depending on your version of Jupyter\n",
        "%matplotlib inline"
      ],
      "execution_count": 17,
      "outputs": []
    },
    {
      "cell_type": "code",
      "metadata": {
        "id": "BPZe0L1lJrxF",
        "colab_type": "code",
        "colab": {
          "resources": {
            "http://localhost:8080/nbextensions/google.colab/files.js": {
              "data": "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",
              "ok": true,
              "headers": [
                [
                  "content-type",
                  "application/javascript"
                ]
              ],
              "status": 200,
              "status_text": ""
            }
          },
          "base_uri": "https://localhost:8080/",
          "height": 73
        },
        "outputId": "1efbca9c-51c1-4ce8-dff4-b398cf4052a5"
      },
      "source": [
        "#import file\n",
        "#Para cargar los archivos desde la plataforma, ver archivo en github\n",
        "\n",
        "from google.colab import files\n",
        "file = files.upload()\n",
        "#"
      ],
      "execution_count": 11,
      "outputs": [
        {
          "output_type": "display_data",
          "data": {
            "text/html": [
              "\n",
              "     <input type=\"file\" id=\"files-95ee5afc-ba9d-4e8b-a2dc-b00839e9f597\" name=\"files[]\" multiple disabled\n",
              "        style=\"border:none\" />\n",
              "     <output id=\"result-95ee5afc-ba9d-4e8b-a2dc-b00839e9f597\">\n",
              "      Upload widget is only available when the cell has been executed in the\n",
              "      current browser session. Please rerun this cell to enable.\n",
              "      </output>\n",
              "      <script src=\"/nbextensions/google.colab/files.js\"></script> "
            ],
            "text/plain": [
              "<IPython.core.display.HTML object>"
            ]
          },
          "metadata": {
            "tags": []
          }
        },
        {
          "output_type": "stream",
          "text": [
            "Saving lending_club_loan_two.csv to lending_club_loan_two.csv\n"
          ],
          "name": "stdout"
        }
      ]
    },
    {
      "cell_type": "code",
      "metadata": {
        "id": "rGgKg1OmJndM",
        "colab_type": "code",
        "colab": {}
      },
      "source": [
        "df = pd.read_csv('lending_club_loan_two.csv')"
      ],
      "execution_count": 18,
      "outputs": []
    },
    {
      "cell_type": "code",
      "metadata": {
        "id": "RjHsO_DVKdKr",
        "colab_type": "code",
        "colab": {
          "base_uri": "https://localhost:8080/",
          "height": 621
        },
        "outputId": "7bade8e6-af8a-400a-cc7b-71846957b2a6"
      },
      "source": [
        "df.info()"
      ],
      "execution_count": 19,
      "outputs": [
        {
          "output_type": "stream",
          "text": [
            "<class 'pandas.core.frame.DataFrame'>\n",
            "RangeIndex: 396030 entries, 0 to 396029\n",
            "Data columns (total 27 columns):\n",
            " #   Column                Non-Null Count   Dtype  \n",
            "---  ------                --------------   -----  \n",
            " 0   loan_amnt             396030 non-null  float64\n",
            " 1   term                  396030 non-null  object \n",
            " 2   int_rate              396030 non-null  float64\n",
            " 3   installment           396030 non-null  float64\n",
            " 4   grade                 396030 non-null  object \n",
            " 5   sub_grade             396030 non-null  object \n",
            " 6   emp_title             373103 non-null  object \n",
            " 7   emp_length            377729 non-null  object \n",
            " 8   home_ownership        396030 non-null  object \n",
            " 9   annual_inc            396030 non-null  float64\n",
            " 10  verification_status   396030 non-null  object \n",
            " 11  issue_d               396030 non-null  object \n",
            " 12  loan_status           396030 non-null  object \n",
            " 13  purpose               396030 non-null  object \n",
            " 14  title                 394275 non-null  object \n",
            " 15  dti                   396030 non-null  float64\n",
            " 16  earliest_cr_line      396030 non-null  object \n",
            " 17  open_acc              396030 non-null  float64\n",
            " 18  pub_rec               396030 non-null  float64\n",
            " 19  revol_bal             396030 non-null  float64\n",
            " 20  revol_util            395754 non-null  float64\n",
            " 21  total_acc             396030 non-null  float64\n",
            " 22  initial_list_status   396030 non-null  object \n",
            " 23  application_type      396030 non-null  object \n",
            " 24  mort_acc              358235 non-null  float64\n",
            " 25  pub_rec_bankruptcies  395495 non-null  float64\n",
            " 26  address               396030 non-null  object \n",
            "dtypes: float64(12), object(15)\n",
            "memory usage: 81.6+ MB\n"
          ],
          "name": "stdout"
        }
      ]
    },
    {
      "cell_type": "markdown",
      "metadata": {
        "id": "weR8T0dbLPmE",
        "colab_type": "text"
      },
      "source": [
        "##Section 1: Exploratory Data Analysis\n",
        "OVERALL GOAL: Get an understanding for which variables are important, view summary statistics, and visualize the data\n",
        "\n",
        "TASK: Since we will be attempting to predict loan_status, create a countplot as shown below."
      ]
    },
    {
      "cell_type": "code",
      "metadata": {
        "id": "XYxOL0mOLV0z",
        "colab_type": "code",
        "colab": {
          "base_uri": "https://localhost:8080/",
          "height": 298
        },
        "outputId": "c089295a-6b75-471f-8070-d0ac4a451b37"
      },
      "source": [
        "sns.countplot(x='loan_status',data=df)"
      ],
      "execution_count": 20,
      "outputs": [
        {
          "output_type": "execute_result",
          "data": {
            "text/plain": [
              "<matplotlib.axes._subplots.AxesSubplot at 0x7fc417e361d0>"
            ]
          },
          "metadata": {
            "tags": []
          },
          "execution_count": 20
        },
        {
          "output_type": "display_data",
          "data": {
            "image/png": "[encoded data removed]",
            "text/plain": [
              "<Figure size 432x288 with 1 Axes>"
            ]
          },
          "metadata": {
            "tags": [],
            "needs_background": "light"
          }
        }
      ]
    },
    {
      "cell_type": "code",
      "metadata": {
        "id": "xaYsh0KILfz1",
        "colab_type": "code",
        "colab": {
          "base_uri": "https://localhost:8080/",
          "height": 298
        },
        "outputId": "5aebee3e-1c2e-4bd6-8c58-1746dbbcbe73"
      },
      "source": [
        "#TASK: Create a histogram of the loan_amnt column.\n",
        "plt.figure(figsize=(12,4))\n",
        "sns.distplot(df['loan_amnt'],kde=False,bins=40)\n",
        "plt.xlim(0,45000)"
      ],
      "execution_count": 21,
      "outputs": [
        {
          "output_type": "execute_result",
          "data": {
            "text/plain": [
              "(0.0, 45000.0)"
            ]
          },
          "metadata": {
            "tags": []
          },
          "execution_count": 21
        },
        {
          "output_type": "display_data",
          "data": {
            "image/png": "[encoded data removed]",
            "text/plain": [
              "<Figure size 864x288 with 1 Axes>"
            ]
          },
          "metadata": {
            "tags": [],
            "needs_background": "light"
          }
        }
      ]
    },
    {
      "cell_type": "code",
      "metadata": {
        "id": "9MpRW6enLrPk",
        "colab_type": "code",
        "colab": {
          "base_uri": "https://localhost:8080/",
          "height": 399
        },
        "outputId": "63a0daf4-9aa3-4212-c621-4444148b74d8"
      },
      "source": [
        "#TASK: Let's explore correlation between the continuous feature variables. \n",
        "#                        Calculate the correlation between all continuous numeric variables using .corr() method.\n",
        "df.corr()"
      ],
      "execution_count": 22,
      "outputs": [
        {
          "output_type": "execute_result",
          "data": {
            "text/html": [
              "<div>\n",
              "<style scoped>\n",
              "    .dataframe tbody tr th:only-of-type {\n",
              "        vertical-align: middle;\n",
              "    }\n",
              "\n",
              "    .dataframe tbody tr th {\n",
              "        vertical-align: top;\n",
              "    }\n",
              "\n",
              "    .dataframe thead th {\n",
              "        text-align: right;\n",
              "    }\n",
              "</style>\n",
              "<table border=\"1\" class=\"dataframe\">\n",
              "  <thead>\n",
              "    <tr style=\"text-align: right;\">\n",
              "      <th></th>\n",
              "      <th>loan_amnt</th>\n",
              "      <th>int_rate</th>\n",
              "      <th>installment</th>\n",
              "      <th>annual_inc</th>\n",
              "      <th>dti</th>\n",
              "      <th>open_acc</th>\n",
              "      <th>pub_rec</th>\n",
              "      <th>revol_bal</th>\n",
              "      <th>revol_util</th>\n",
              "      <th>total_acc</th>\n",
              "      <th>mort_acc</th>\n",
              "      <th>pub_rec_bankruptcies</th>\n",
              "    </tr>\n",
              "  </thead>\n",
              "  <tbody>\n",
              "    <tr>\n",
              "      <th>loan_amnt</th>\n",
              "      <td>1.000000</td>\n",
              "      <td>0.168921</td>\n",
              "      <td>0.953929</td>\n",
              "      <td>0.336887</td>\n",
              "      <td>0.016636</td>\n",
              "      <td>0.198556</td>\n",
              "      <td>-0.077779</td>\n",
              "      <td>0.328320</td>\n",
              "      <td>0.099911</td>\n",
              "      <td>0.223886</td>\n",
              "      <td>0.222315</td>\n",
              "      <td>-0.106539</td>\n",
              "    </tr>\n",
              "    <tr>\n",
              "      <th>int_rate</th>\n",
              "      <td>0.168921</td>\n",
              "      <td>1.000000</td>\n",
              "      <td>0.162758</td>\n",
              "      <td>-0.056771</td>\n",
              "      <td>0.079038</td>\n",
              "      <td>0.011649</td>\n",
              "      <td>0.060986</td>\n",
              "      <td>-0.011280</td>\n",
              "      <td>0.293659</td>\n",
              "      <td>-0.036404</td>\n",
              "      <td>-0.082583</td>\n",
              "      <td>0.057450</td>\n",
              "    </tr>\n",
              "    <tr>\n",
              "      <th>installment</th>\n",
              "      <td>0.953929</td>\n",
              "      <td>0.162758</td>\n",
              "      <td>1.000000</td>\n",
              "      <td>0.330381</td>\n",
              "      <td>0.015786</td>\n",
              "      <td>0.188973</td>\n",
              "      <td>-0.067892</td>\n",
              "      <td>0.316455</td>\n",
              "      <td>0.123915</td>\n",
              "      <td>0.202430</td>\n",
              "      <td>0.193694</td>\n",
              "      <td>-0.098628</td>\n",
              "    </tr>\n",
              "    <tr>\n",
              "      <th>annual_inc</th>\n",
              "      <td>0.336887</td>\n",
              "      <td>-0.056771</td>\n",
              "      <td>0.330381</td>\n",
              "      <td>1.000000</td>\n",
              "      <td>-0.081685</td>\n",
              "      <td>0.136150</td>\n",
              "      <td>-0.013720</td>\n",
              "      <td>0.299773</td>\n",
              "      <td>0.027871</td>\n",
              "      <td>0.193023</td>\n",
              "      <td>0.236320</td>\n",
              "      <td>-0.050162</td>\n",
              "    </tr>\n",
              "    <tr>\n",
              "      <th>dti</th>\n",
              "      <td>0.016636</td>\n",
              "      <td>0.079038</td>\n",
              "      <td>0.015786</td>\n",
              "      <td>-0.081685</td>\n",
              "      <td>1.000000</td>\n",
              "      <td>0.136181</td>\n",
              "      <td>-0.017639</td>\n",
              "      <td>0.063571</td>\n",
              "      <td>0.088375</td>\n",
              "      <td>0.102128</td>\n",
              "      <td>-0.025439</td>\n",
              "      <td>-0.014558</td>\n",
              "    </tr>\n",
              "    <tr>\n",
              "      <th>open_acc</th>\n",
              "      <td>0.198556</td>\n",
              "      <td>0.011649</td>\n",
              "      <td>0.188973</td>\n",
              "      <td>0.136150</td>\n",
              "      <td>0.136181</td>\n",
              "      <td>1.000000</td>\n",
              "      <td>-0.018392</td>\n",
              "      <td>0.221192</td>\n",
              "      <td>-0.131420</td>\n",
              "      <td>0.680728</td>\n",
              "      <td>0.109205</td>\n",
              "      <td>-0.027732</td>\n",
              "    </tr>\n",
              "    <tr>\n",
              "      <th>pub_rec</th>\n",
              "      <td>-0.077779</td>\n",
              "      <td>0.060986</td>\n",
              "      <td>-0.067892</td>\n",
              "      <td>-0.013720</td>\n",
              "      <td>-0.017639</td>\n",
              "      <td>-0.018392</td>\n",
              "      <td>1.000000</td>\n",
              "      <td>-0.101664</td>\n",
              "      <td>-0.075910</td>\n",
              "      <td>0.019723</td>\n",
              "      <td>0.011552</td>\n",
              "      <td>0.699408</td>\n",
              "    </tr>\n",
              "    <tr>\n",
              "      <th>revol_bal</th>\n",
              "      <td>0.328320</td>\n",
              "      <td>-0.011280</td>\n",
              "      <td>0.316455</td>\n",
              "      <td>0.299773</td>\n",
              "      <td>0.063571</td>\n",
              "      <td>0.221192</td>\n",
              "      <td>-0.101664</td>\n",
              "      <td>1.000000</td>\n",
              "      <td>0.226346</td>\n",
              "      <td>0.191616</td>\n",
              "      <td>0.194925</td>\n",
              "      <td>-0.124532</td>\n",
              "    </tr>\n",
              "    <tr>\n",
              "      <th>revol_util</th>\n",
              "      <td>0.099911</td>\n",
              "      <td>0.293659</td>\n",
              "      <td>0.123915</td>\n",
              "      <td>0.027871</td>\n",
              "      <td>0.088375</td>\n",
              "      <td>-0.131420</td>\n",
              "      <td>-0.075910</td>\n",
              "      <td>0.226346</td>\n",
              "      <td>1.000000</td>\n",
              "      <td>-0.104273</td>\n",
              "      <td>0.007514</td>\n",
              "      <td>-0.086751</td>\n",
              "    </tr>\n",
              "    <tr>\n",
              "      <th>total_acc</th>\n",
              "      <td>0.223886</td>\n",
              "      <td>-0.036404</td>\n",
              "      <td>0.202430</td>\n",
              "      <td>0.193023</td>\n",
              "      <td>0.102128</td>\n",
              "      <td>0.680728</td>\n",
              "      <td>0.019723</td>\n",
              "      <td>0.191616</td>\n",
              "      <td>-0.104273</td>\n",
              "      <td>1.000000</td>\n",
              "      <td>0.381072</td>\n",
              "      <td>0.042035</td>\n",
              "    </tr>\n",
              "    <tr>\n",
              "      <th>mort_acc</th>\n",
              "      <td>0.222315</td>\n",
              "      <td>-0.082583</td>\n",
              "      <td>0.193694</td>\n",
              "      <td>0.236320</td>\n",
              "      <td>-0.025439</td>\n",
              "      <td>0.109205</td>\n",
              "      <td>0.011552</td>\n",
              "      <td>0.194925</td>\n",
              "      <td>0.007514</td>\n",
              "      <td>0.381072</td>\n",
              "      <td>1.000000</td>\n",
              "      <td>0.027239</td>\n",
              "    </tr>\n",
              "    <tr>\n",
              "      <th>pub_rec_bankruptcies</th>\n",
              "      <td>-0.106539</td>\n",
              "      <td>0.057450</td>\n",
              "      <td>-0.098628</td>\n",
              "      <td>-0.050162</td>\n",
              "      <td>-0.014558</td>\n",
              "      <td>-0.027732</td>\n",
              "      <td>0.699408</td>\n",
              "      <td>-0.124532</td>\n",
              "      <td>-0.086751</td>\n",
              "      <td>0.042035</td>\n",
              "      <td>0.027239</td>\n",
              "      <td>1.000000</td>\n",
              "    </tr>\n",
              "  </tbody>\n",
              "</table>\n",
              "</div>"
            ],
            "text/plain": [
              "                      loan_amnt  int_rate  ...  mort_acc  pub_rec_bankruptcies\n",
              "loan_amnt              1.000000  0.168921  ...  0.222315             -0.106539\n",
              "int_rate               0.168921  1.000000  ... -0.082583              0.057450\n",
              "installment            0.953929  0.162758  ...  0.193694             -0.098628\n",
              "annual_inc             0.336887 -0.056771  ...  0.236320             -0.050162\n",
              "dti                    0.016636  0.079038  ... -0.025439             -0.014558\n",
              "open_acc               0.198556  0.011649  ...  0.109205             -0.027732\n",
              "pub_rec               -0.077779  0.060986  ...  0.011552              0.699408\n",
              "revol_bal              0.328320 -0.011280  ...  0.194925             -0.124532\n",
              "revol_util             0.099911  0.293659  ...  0.007514             -0.086751\n",
              "total_acc              0.223886 -0.036404  ...  0.381072              0.042035\n",
              "mort_acc               0.222315 -0.082583  ...  1.000000              0.027239\n",
              "pub_rec_bankruptcies  -0.106539  0.057450  ...  0.027239              1.000000\n",
              "\n",
              "[12 rows x 12 columns]"
            ]
          },
          "metadata": {
            "tags": []
          },
          "execution_count": 22
        }
      ]
    },
    {
      "cell_type": "markdown",
      "metadata": {
        "id": "jwhuzv9pL2DR",
        "colab_type": "text"
      },
      "source": [
        "**TASK: Visualize this using a heatmap. Depending on your version of matplotlib, you may need to manually adjust the heatmap.**\n",
        "\n",
        "* [Heatmap info](https://seaborn.pydata.org/generated/seaborn.heatmap.html#seaborn.heatmap)\n",
        "* [Help with resizing](https://stackoverflow.com/questions/56942670/matplotlib-seaborn-first-and-last-row-cut-in-half-of-heatmap-plot)"
      ]
    },
    {
      "cell_type": "code",
      "metadata": {
        "id": "5vZXRHByL3kv",
        "colab_type": "code",
        "colab": {
          "base_uri": "https://localhost:8080/",
          "height": 550
        },
        "outputId": "c6095770-11e0-465f-c433-02c5e984ff40"
      },
      "source": [
        "plt.figure(figsize=(12,7))\n",
        "sns.heatmap(df.corr(),annot=True,cmap='viridis')\n",
        "plt.ylim(10, 0)"
      ],
      "execution_count": 23,
      "outputs": [
        {
          "output_type": "execute_result",
          "data": {
            "text/plain": [
              "(10.0, 0.0)"
            ]
          },
          "metadata": {
            "tags": []
          },
          "execution_count": 23
        },
        {
          "output_type": "display_data",
          "data": {
            "image/png": "[encoded data removed]",
            "text/plain": [
              "<Figure size 864x504 with 2 Axes>"
            ]
          },
          "metadata": {
            "tags": [],
            "needs_background": "light"
          }
        }
      ]
    },
    {
      "cell_type": "markdown",
      "metadata": {
        "id": "rpTqZ5lWMJT4",
        "colab_type": "text"
      },
      "source": [
        "**TASK: You should have noticed almost perfect correlation with the \"installment\" feature. Explore this feature further. Print out their descriptions and perform a scatterplot between them. Does this relationship make sense to you? Do you think there is duplicate information here?**"
      ]
    },
    {
      "cell_type": "code",
      "metadata": {
        "id": "O8XzI2raMK1i",
        "colab_type": "code",
        "colab": {
          "base_uri": "https://localhost:8080/",
          "height": 35
        },
        "outputId": "620e538b-280b-462f-831d-884e247be6db"
      },
      "source": [
        "feat_info('installment')"
      ],
      "execution_count": 24,
      "outputs": [
        {
          "output_type": "stream",
          "text": [
            "The monthly payment owed by the borrower if the loan originates.\n"
          ],
          "name": "stdout"
        }
      ]
    },
    {
      "cell_type": "code",
      "metadata": {
        "id": "3EbeL08YMeiu",
        "colab_type": "code",
        "colab": {
          "base_uri": "https://localhost:8080/",
          "height": 55
        },
        "outputId": "df8d7ea1-9038-474c-8177-69c5ce361c93"
      },
      "source": [
        "feat_info('loan_amnt')"
      ],
      "execution_count": 25,
      "outputs": [
        {
          "output_type": "stream",
          "text": [
            "The listed amount of the loan applied for by the borrower. If at some point in time, the credit department reduces the loan amount, then it will be reflected in this value.\n"
          ],
          "name": "stdout"
        }
      ]
    },
    {
      "cell_type": "code",
      "metadata": {
        "id": "Vc_hfvPtMiN_",
        "colab_type": "code",
        "colab": {
          "base_uri": "https://localhost:8080/",
          "height": 297
        },
        "outputId": "4482175f-739d-4d5a-e61a-aa2cd2eb8f55"
      },
      "source": [
        "sns.scatterplot(x='installment',y='loan_amnt',data=df,)"
      ],
      "execution_count": 26,
      "outputs": [
        {
          "output_type": "execute_result",
          "data": {
            "text/plain": [
              "<matplotlib.axes._subplots.AxesSubplot at 0x7fc418b9fc50>"
            ]
          },
          "metadata": {
            "tags": []
          },
          "execution_count": 26
        },
        {
          "output_type": "display_data",
          "data": {
            "image/png": "[encoded data removed]",
            "text/plain": [
              "<Figure size 432x288 with 1 Axes>"
            ]
          },
          "metadata": {
            "tags": [],
            "needs_background": "light"
          }
        }
      ]
    },
    {
      "cell_type": "markdown",
      "metadata": {
        "id": "txYUZu4wMmvC",
        "colab_type": "text"
      },
      "source": [
        "**TASK: Create a boxplot showing the relationship between the loan_status and the Loan Amount.**"
      ]
    },
    {
      "cell_type": "code",
      "metadata": {
        "id": "qYJCtpQlMqyJ",
        "colab_type": "code",
        "colab": {
          "base_uri": "https://localhost:8080/",
          "height": 298
        },
        "outputId": "c0d0d21a-f305-47fd-e426-613b2f1899b6"
      },
      "source": [
        "sns.boxplot(x='loan_status',y='loan_amnt',data=df)"
      ],
      "execution_count": 27,
      "outputs": [
        {
          "output_type": "execute_result",
          "data": {
            "text/plain": [
              "<matplotlib.axes._subplots.AxesSubplot at 0x7fc419fdf4e0>"
            ]
          },
          "metadata": {
            "tags": []
          },
          "execution_count": 27
        },
        {
          "output_type": "display_data",
          "data": {
            "image/png": "[encoded data removed]",
            "text/plain": [
              "<Figure size 432x288 with 1 Axes>"
            ]
          },
          "metadata": {
            "tags": [],
            "needs_background": "light"
          }
        }
      ]
    },
    {
      "cell_type": "markdown",
      "metadata": {
        "id": "YKZiHyilM8x5",
        "colab_type": "text"
      },
      "source": [
        "**TASK: Calculate the summary statistics for the loan amount, grouped by the loan_status.**"
      ]
    },
    {
      "cell_type": "code",
      "metadata": {
        "id": "mGsc7g_FM-Jv",
        "colab_type": "code",
        "colab": {
          "base_uri": "https://localhost:8080/",
          "height": 135
        },
        "outputId": "5eaf6ed1-3e01-49bb-84c5-304039f3f745"
      },
      "source": [
        "df.groupby('loan_status')['loan_amnt'].describe()"
      ],
      "execution_count": 28,
      "outputs": [
        {
          "output_type": "execute_result",
          "data": {
            "text/html": [
              "<div>\n",
              "<style scoped>\n",
              "    .dataframe tbody tr th:only-of-type {\n",
              "        vertical-align: middle;\n",
              "    }\n",
              "\n",
              "    .dataframe tbody tr th {\n",
              "        vertical-align: top;\n",
              "    }\n",
              "\n",
              "    .dataframe thead th {\n",
              "        text-align: right;\n",
              "    }\n",
              "</style>\n",
              "<table border=\"1\" class=\"dataframe\">\n",
              "  <thead>\n",
              "    <tr style=\"text-align: right;\">\n",
              "      <th></th>\n",
              "      <th>count</th>\n",
              "      <th>mean</th>\n",
              "      <th>std</th>\n",
              "      <th>min</th>\n",
              "      <th>25%</th>\n",
              "      <th>50%</th>\n",
              "      <th>75%</th>\n",
              "      <th>max</th>\n",
              "    </tr>\n",
              "    <tr>\n",
              "      <th>loan_status</th>\n",
              "      <th></th>\n",
              "      <th></th>\n",
              "      <th></th>\n",
              "      <th></th>\n",
              "      <th></th>\n",
              "      <th></th>\n",
              "      <th></th>\n",
              "      <th></th>\n",
              "    </tr>\n",
              "  </thead>\n",
              "  <tbody>\n",
              "    <tr>\n",
              "      <th>Charged Off</th>\n",
              "      <td>77673.0</td>\n",
              "      <td>15126.300967</td>\n",
              "      <td>8505.090557</td>\n",
              "      <td>1000.0</td>\n",
              "      <td>8525.0</td>\n",
              "      <td>14000.0</td>\n",
              "      <td>20000.0</td>\n",
              "      <td>40000.0</td>\n",
              "    </tr>\n",
              "    <tr>\n",
              "      <th>Fully Paid</th>\n",
              "      <td>318357.0</td>\n",
              "      <td>13866.878771</td>\n",
              "      <td>8302.319699</td>\n",
              "      <td>500.0</td>\n",
              "      <td>7500.0</td>\n",
              "      <td>12000.0</td>\n",
              "      <td>19225.0</td>\n",
              "      <td>40000.0</td>\n",
              "    </tr>\n",
              "  </tbody>\n",
              "</table>\n",
              "</div>"
            ],
            "text/plain": [
              "                count          mean          std  ...      50%      75%      max\n",
              "loan_status                                       ...                           \n",
              "Charged Off   77673.0  15126.300967  8505.090557  ...  14000.0  20000.0  40000.0\n",
              "Fully Paid   318357.0  13866.878771  8302.319699  ...  12000.0  19225.0  40000.0\n",
              "\n",
              "[2 rows x 8 columns]"
            ]
          },
          "metadata": {
            "tags": []
          },
          "execution_count": 28
        }
      ]
    },
    {
      "cell_type": "markdown",
      "metadata": {
        "id": "yhqek-vrNESE",
        "colab_type": "text"
      },
      "source": [
        "**TASK: Let's explore the Grade and SubGrade columns that LendingClub attributes to the loans. What are the unique possible grades and subgrades?**"
      ]
    },
    {
      "cell_type": "code",
      "metadata": {
        "id": "5D9B0mItNFLy",
        "colab_type": "code",
        "colab": {
          "base_uri": "https://localhost:8080/",
          "height": 35
        },
        "outputId": "a609b4c7-7b4d-440f-80b6-ab63629f9f6d"
      },
      "source": [
        "sorted(df['grade'].unique())"
      ],
      "execution_count": 29,
      "outputs": [
        {
          "output_type": "execute_result",
          "data": {
            "text/plain": [
              "['A', 'B', 'C', 'D', 'E', 'F', 'G']"
            ]
          },
          "metadata": {
            "tags": []
          },
          "execution_count": 29
        }
      ]
    },
    {
      "cell_type": "markdown",
      "metadata": {
        "id": "kqJrt_zzNMqy",
        "colab_type": "text"
      },
      "source": [
        "**TASK: Create a countplot per grade. Set the hue to the loan_status label.**"
      ]
    },
    {
      "cell_type": "code",
      "metadata": {
        "id": "7myq3ytKNPdx",
        "colab_type": "code",
        "colab": {
          "base_uri": "https://localhost:8080/",
          "height": 297
        },
        "outputId": "87a2073c-0bf5-4bb8-a0fd-57d2730a4b77"
      },
      "source": [
        "sns.countplot(x='grade',data=df,hue='loan_status')"
      ],
      "execution_count": 30,
      "outputs": [
        {
          "output_type": "execute_result",
          "data": {
            "text/plain": [
              "<matplotlib.axes._subplots.AxesSubplot at 0x7fc4186bea90>"
            ]
          },
          "metadata": {
            "tags": []
          },
          "execution_count": 30
        },
        {
          "output_type": "display_data",
          "data": {
            "image/png": "[encoded data removed]",
            "text/plain": [
              "<Figure size 432x288 with 1 Axes>"
            ]
          },
          "metadata": {
            "tags": [],
            "needs_background": "light"
          }
        }
      ]
    },
    {
      "cell_type": "markdown",
      "metadata": {
        "id": "NZU9FwTWNSya",
        "colab_type": "text"
      },
      "source": [
        "**TASK: Display a count plot per subgrade. You may need to resize for this plot and reorder the x axis. Feel free to edit the color palette. Explore both all loans made per subgrade as well being separated based on the loan_status**"
      ]
    },
    {
      "cell_type": "code",
      "metadata": {
        "id": "DTHg5imQhIke",
        "colab_type": "code",
        "colab": {
          "base_uri": "https://localhost:8080/",
          "height": 298
        },
        "outputId": "7aa45dbc-5b6a-4e97-b5e2-3c40e0c52b2c"
      },
      "source": [
        "plt.figure(figsize=(12,4))\n",
        "subgrade_order = sorted(df['sub_grade'].unique())\n",
        "sns.countplot(x='sub_grade',data=df,order = subgrade_order,palette='coolwarm' )"
      ],
      "execution_count": 31,
      "outputs": [
        {
          "output_type": "execute_result",
          "data": {
            "text/plain": [
              "<matplotlib.axes._subplots.AxesSubplot at 0x7fc419fdfcf8>"
            ]
          },
          "metadata": {
            "tags": []
          },
          "execution_count": 31
        },
        {
          "output_type": "display_data",
          "data": {
            "image/png": "[encoded data removed]",
            "text/plain": [
              "<Figure size 864x288 with 1 Axes>"
            ]
          },
          "metadata": {
            "tags": [],
            "needs_background": "light"
          }
        }
      ]
    },
    {
      "cell_type": "code",
      "metadata": {
        "id": "VmDvmAPAhNVz",
        "colab_type": "code",
        "colab": {
          "base_uri": "https://localhost:8080/",
          "height": 298
        },
        "outputId": "23f4acbb-2027-4476-f284-118d6634228d"
      },
      "source": [
        "plt.figure(figsize=(12,4))\n",
        "subgrade_order = sorted(df['sub_grade'].unique())\n",
        "sns.countplot(x='sub_grade',data=df,order = subgrade_order,palette='coolwarm' ,hue='loan_status')"
      ],
      "execution_count": 32,
      "outputs": [
        {
          "output_type": "execute_result",
          "data": {
            "text/plain": [
              "<matplotlib.axes._subplots.AxesSubplot at 0x7fc41974a8d0>"
            ]
          },
          "metadata": {
            "tags": []
          },
          "execution_count": 32
        },
        {
          "output_type": "display_data",
          "data": {
            "image/png": "[encoded data removed]",
            "text/plain": [
              "<Figure size 864x288 with 1 Axes>"
            ]
          },
          "metadata": {
            "tags": [],
            "needs_background": "light"
          }
        }
      ]
    },
    {
      "cell_type": "markdown",
      "metadata": {
        "id": "eEgc_xWChR7t",
        "colab_type": "text"
      },
      "source": [
        "**TASK: It looks like F and G subgrades don't get paid back that often. Isloate those and recreate the countplot just for those subgrades.**"
      ]
    },
    {
      "cell_type": "code",
      "metadata": {
        "id": "JOjpplB7hWJB",
        "colab_type": "code",
        "colab": {
          "base_uri": "https://localhost:8080/",
          "height": 298
        },
        "outputId": "5e846269-d178-4116-fc46-9b4423b62440"
      },
      "source": [
        "f_and_g = df[(df['grade']=='G') | (df['grade']=='F')]\n",
        "\n",
        "plt.figure(figsize=(12,4))\n",
        "subgrade_order = sorted(f_and_g['sub_grade'].unique())\n",
        "sns.countplot(x='sub_grade',data=f_and_g,order = subgrade_order,hue='loan_status')"
      ],
      "execution_count": 33,
      "outputs": [
        {
          "output_type": "execute_result",
          "data": {
            "text/plain": [
              "<matplotlib.axes._subplots.AxesSubplot at 0x7fc419082b38>"
            ]
          },
          "metadata": {
            "tags": []
          },
          "execution_count": 33
        },
        {
          "output_type": "display_data",
          "data": {
            "image/png": "[encoded data removed]",
            "text/plain": [
              "<Figure size 864x288 with 1 Axes>"
            ]
          },
          "metadata": {
            "tags": [],
            "needs_background": "light"
          }
        }
      ]
    },
    {
      "cell_type": "markdown",
      "metadata": {
        "id": "9jOgT37Lhazy",
        "colab_type": "text"
      },
      "source": [
        "**TASK: Create a new column called 'load_repaid' which will contain a 1 if the loan status was \"Fully Paid\" and a 0 if it was \"Charged Off\".**"
      ]
    },
    {
      "cell_type": "code",
      "metadata": {
        "id": "21T8X9eqho3a",
        "colab_type": "code",
        "colab": {
          "base_uri": "https://localhost:8080/",
          "height": 35
        },
        "outputId": "a133d0db-ed3e-4a3a-bce1-cd1762fee489"
      },
      "source": [
        "df['loan_status'].unique()"
      ],
      "execution_count": 34,
      "outputs": [
        {
          "output_type": "execute_result",
          "data": {
            "text/plain": [
              "array(['Fully Paid', 'Charged Off'], dtype=object)"
            ]
          },
          "metadata": {
            "tags": []
          },
          "execution_count": 34
        }
      ]
    },
    {
      "cell_type": "code",
      "metadata": {
        "id": "If65uJ20hsBq",
        "colab_type": "code",
        "colab": {}
      },
      "source": [
        "df['loan_repaid'] = df['loan_status'].map({'Fully Paid':1,'Charged Off':0})"
      ],
      "execution_count": 35,
      "outputs": []
    },
    {
      "cell_type": "code",
      "metadata": {
        "id": "14GJpno3hu6y",
        "colab_type": "code",
        "colab": {
          "base_uri": "https://localhost:8080/",
          "height": 399
        },
        "outputId": "e9916217-63e3-4f7e-cb63-006e8f0e1dff"
      },
      "source": [
        "df[['loan_repaid','loan_status']]"
      ],
      "execution_count": 36,
      "outputs": [
        {
          "output_type": "execute_result",
          "data": {
            "text/html": [
              "<div>\n",
              "<style scoped>\n",
              "    .dataframe tbody tr th:only-of-type {\n",
              "        vertical-align: middle;\n",
              "    }\n",
              "\n",
              "    .dataframe tbody tr th {\n",
              "        vertical-align: top;\n",
              "    }\n",
              "\n",
              "    .dataframe thead th {\n",
              "        text-align: right;\n",
              "    }\n",
              "</style>\n",
              "<table border=\"1\" class=\"dataframe\">\n",
              "  <thead>\n",
              "    <tr style=\"text-align: right;\">\n",
              "      <th></th>\n",
              "      <th>loan_repaid</th>\n",
              "      <th>loan_status</th>\n",
              "    </tr>\n",
              "  </thead>\n",
              "  <tbody>\n",
              "    <tr>\n",
              "      <th>0</th>\n",
              "      <td>1</td>\n",
              "      <td>Fully Paid</td>\n",
              "    </tr>\n",
              "    <tr>\n",
              "      <th>1</th>\n",
              "      <td>1</td>\n",
              "      <td>Fully Paid</td>\n",
              "    </tr>\n",
              "    <tr>\n",
              "      <th>2</th>\n",
              "      <td>1</td>\n",
              "      <td>Fully Paid</td>\n",
              "    </tr>\n",
              "    <tr>\n",
              "      <th>3</th>\n",
              "      <td>1</td>\n",
              "      <td>Fully Paid</td>\n",
              "    </tr>\n",
              "    <tr>\n",
              "      <th>4</th>\n",
              "      <td>0</td>\n",
              "      <td>Charged Off</td>\n",
              "    </tr>\n",
              "    <tr>\n",
              "      <th>...</th>\n",
              "      <td>...</td>\n",
              "      <td>...</td>\n",
              "    </tr>\n",
              "    <tr>\n",
              "      <th>396025</th>\n",
              "      <td>1</td>\n",
              "      <td>Fully Paid</td>\n",
              "    </tr>\n",
              "    <tr>\n",
              "      <th>396026</th>\n",
              "      <td>1</td>\n",
              "      <td>Fully Paid</td>\n",
              "    </tr>\n",
              "    <tr>\n",
              "      <th>396027</th>\n",
              "      <td>1</td>\n",
              "      <td>Fully Paid</td>\n",
              "    </tr>\n",
              "    <tr>\n",
              "      <th>396028</th>\n",
              "      <td>1</td>\n",
              "      <td>Fully Paid</td>\n",
              "    </tr>\n",
              "    <tr>\n",
              "      <th>396029</th>\n",
              "      <td>1</td>\n",
              "      <td>Fully Paid</td>\n",
              "    </tr>\n",
              "  </tbody>\n",
              "</table>\n",
              "<p>396030 rows × 2 columns</p>\n",
              "</div>"
            ],
            "text/plain": [
              "        loan_repaid  loan_status\n",
              "0                 1   Fully Paid\n",
              "1                 1   Fully Paid\n",
              "2                 1   Fully Paid\n",
              "3                 1   Fully Paid\n",
              "4                 0  Charged Off\n",
              "...             ...          ...\n",
              "396025            1   Fully Paid\n",
              "396026            1   Fully Paid\n",
              "396027            1   Fully Paid\n",
              "396028            1   Fully Paid\n",
              "396029            1   Fully Paid\n",
              "\n",
              "[396030 rows x 2 columns]"
            ]
          },
          "metadata": {
            "tags": []
          },
          "execution_count": 36
        }
      ]
    },
    {
      "cell_type": "markdown",
      "metadata": {
        "id": "hS1pvgvCh13h",
        "colab_type": "text"
      },
      "source": [
        "**CHALLENGE TASK: (Note this is hard, but can be done in one line!) Create a bar plot showing the correlation of the numeric features to the new loan_repaid column. [Helpful Link](https://pandas.pydata.org/pandas-docs/stable/reference/api/pandas.DataFrame.plot.bar.html)**"
      ]
    },
    {
      "cell_type": "code",
      "metadata": {
        "id": "yQ_X3zCxh5Gi",
        "colab_type": "code",
        "colab": {
          "base_uri": "https://localhost:8080/",
          "height": 383
        },
        "outputId": "c725a25d-1b80-49c6-ffbc-b5c5b2d2cceb"
      },
      "source": [
        "df.corr()['loan_repaid'].sort_values().drop('loan_repaid').plot(kind='bar')"
      ],
      "execution_count": 37,
      "outputs": [
        {
          "output_type": "execute_result",
          "data": {
            "text/plain": [
              "<matplotlib.axes._subplots.AxesSubplot at 0x7fc41a1537f0>"
            ]
          },
          "metadata": {
            "tags": []
          },
          "execution_count": 37
        },
        {
          "output_type": "display_data",
          "data": {
            "image/png": "[encoded data removed]",
            "text/plain": [
              "<Figure size 432x288 with 1 Axes>"
            ]
          },
          "metadata": {
            "tags": [],
            "needs_background": "light"
          }
        }
      ]
    },
    {
      "cell_type": "markdown",
      "metadata": {
        "id": "4v5YpYg2iHF-",
        "colab_type": "text"
      },
      "source": [
        "---\n",
        "---\n",
        "# Section 2: Data PreProcessing\n",
        "\n",
        "**Section Goals: Remove or fill any missing data. Remove unnecessary or repetitive features. Convert categorical string features to dummy variables.**\n"
      ]
    },
    {
      "cell_type": "code",
      "metadata": {
        "id": "IFVaz73MiJKT",
        "colab_type": "code",
        "colab": {
          "base_uri": "https://localhost:8080/",
          "height": 383
        },
        "outputId": "072271f9-06a6-4662-87d7-f65d5d6b2afa"
      },
      "source": [
        "df.head()"
      ],
      "execution_count": 38,
      "outputs": [
        {
          "output_type": "execute_result",
          "data": {
            "text/html": [
              "<div>\n",
              "<style scoped>\n",
              "    .dataframe tbody tr th:only-of-type {\n",
              "        vertical-align: middle;\n",
              "    }\n",
              "\n",
              "    .dataframe tbody tr th {\n",
              "        vertical-align: top;\n",
              "    }\n",
              "\n",
              "    .dataframe thead th {\n",
              "        text-align: right;\n",
              "    }\n",
              "</style>\n",
              "<table border=\"1\" class=\"dataframe\">\n",
              "  <thead>\n",
              "    <tr style=\"text-align: right;\">\n",
              "      <th></th>\n",
              "      <th>loan_amnt</th>\n",
              "      <th>term</th>\n",
              "      <th>int_rate</th>\n",
              "      <th>installment</th>\n",
              "      <th>grade</th>\n",
              "      <th>sub_grade</th>\n",
              "      <th>emp_title</th>\n",
              "      <th>emp_length</th>\n",
              "      <th>home_ownership</th>\n",
              "      <th>annual_inc</th>\n",
              "      <th>verification_status</th>\n",
              "      <th>issue_d</th>\n",
              "      <th>loan_status</th>\n",
              "      <th>purpose</th>\n",
              "      <th>title</th>\n",
              "      <th>dti</th>\n",
              "      <th>earliest_cr_line</th>\n",
              "      <th>open_acc</th>\n",
              "      <th>pub_rec</th>\n",
              "      <th>revol_bal</th>\n",
              "      <th>revol_util</th>\n",
              "      <th>total_acc</th>\n",
              "      <th>initial_list_status</th>\n",
              "      <th>application_type</th>\n",
              "      <th>mort_acc</th>\n",
              "      <th>pub_rec_bankruptcies</th>\n",
              "      <th>address</th>\n",
              "      <th>loan_repaid</th>\n",
              "    </tr>\n",
              "  </thead>\n",
              "  <tbody>\n",
              "    <tr>\n",
              "      <th>0</th>\n",
              "      <td>10000.0</td>\n",
              "      <td>36 months</td>\n",
              "      <td>11.44</td>\n",
              "      <td>329.48</td>\n",
              "      <td>B</td>\n",
              "      <td>B4</td>\n",
              "      <td>Marketing</td>\n",
              "      <td>10+ years</td>\n",
              "      <td>RENT</td>\n",
              "      <td>117000.0</td>\n",
              "      <td>Not Verified</td>\n",
              "      <td>Jan-2015</td>\n",
              "      <td>Fully Paid</td>\n",
              "      <td>vacation</td>\n",
              "      <td>Vacation</td>\n",
              "      <td>26.24</td>\n",
              "      <td>Jun-1990</td>\n",
              "      <td>16.0</td>\n",
              "      <td>0.0</td>\n",
              "      <td>36369.0</td>\n",
              "      <td>41.8</td>\n",
              "      <td>25.0</td>\n",
              "      <td>w</td>\n",
              "      <td>INDIVIDUAL</td>\n",
              "      <td>0.0</td>\n",
              "      <td>0.0</td>\n",
              "      <td>0174 Michelle Gateway\\r\\nMendozaberg, OK 22690</td>\n",
              "      <td>1</td>\n",
              "    </tr>\n",
              "    <tr>\n",
              "      <th>1</th>\n",
              "      <td>8000.0</td>\n",
              "      <td>36 months</td>\n",
              "      <td>11.99</td>\n",
              "      <td>265.68</td>\n",
              "      <td>B</td>\n",
              "      <td>B5</td>\n",
              "      <td>Credit analyst</td>\n",
              "      <td>4 years</td>\n",
              "      <td>MORTGAGE</td>\n",
              "      <td>65000.0</td>\n",
              "      <td>Not Verified</td>\n",
              "      <td>Jan-2015</td>\n",
              "      <td>Fully Paid</td>\n",
              "      <td>debt_consolidation</td>\n",
              "      <td>Debt consolidation</td>\n",
              "      <td>22.05</td>\n",
              "      <td>Jul-2004</td>\n",
              "      <td>17.0</td>\n",
              "      <td>0.0</td>\n",
              "      <td>20131.0</td>\n",
              "      <td>53.3</td>\n",
              "      <td>27.0</td>\n",
              "      <td>f</td>\n",
              "      <td>INDIVIDUAL</td>\n",
              "      <td>3.0</td>\n",
              "      <td>0.0</td>\n",
              "      <td>1076 Carney Fort Apt. 347\\r\\nLoganmouth, SD 05113</td>\n",
              "      <td>1</td>\n",
              "    </tr>\n",
              "    <tr>\n",
              "      <th>2</th>\n",
              "      <td>15600.0</td>\n",
              "      <td>36 months</td>\n",
              "      <td>10.49</td>\n",
              "      <td>506.97</td>\n",
              "      <td>B</td>\n",
              "      <td>B3</td>\n",
              "      <td>Statistician</td>\n",
              "      <td>&lt; 1 year</td>\n",
              "      <td>RENT</td>\n",
              "      <td>43057.0</td>\n",
              "      <td>Source Verified</td>\n",
              "      <td>Jan-2015</td>\n",
              "      <td>Fully Paid</td>\n",
              "      <td>credit_card</td>\n",
              "      <td>Credit card refinancing</td>\n",
              "      <td>12.79</td>\n",
              "      <td>Aug-2007</td>\n",
              "      <td>13.0</td>\n",
              "      <td>0.0</td>\n",
              "      <td>11987.0</td>\n",
              "      <td>92.2</td>\n",
              "      <td>26.0</td>\n",
              "      <td>f</td>\n",
              "      <td>INDIVIDUAL</td>\n",
              "      <td>0.0</td>\n",
              "      <td>0.0</td>\n",
              "      <td>87025 Mark Dale Apt. 269\\r\\nNew Sabrina, WV 05113</td>\n",
              "      <td>1</td>\n",
              "    </tr>\n",
              "    <tr>\n",
              "      <th>3</th>\n",
              "      <td>7200.0</td>\n",
              "      <td>36 months</td>\n",
              "      <td>6.49</td>\n",
              "      <td>220.65</td>\n",
              "      <td>A</td>\n",
              "      <td>A2</td>\n",
              "      <td>Client Advocate</td>\n",
              "      <td>6 years</td>\n",
              "      <td>RENT</td>\n",
              "      <td>54000.0</td>\n",
              "      <td>Not Verified</td>\n",
              "      <td>Nov-2014</td>\n",
              "      <td>Fully Paid</td>\n",
              "      <td>credit_card</td>\n",
              "      <td>Credit card refinancing</td>\n",
              "      <td>2.60</td>\n",
              "      <td>Sep-2006</td>\n",
              "      <td>6.0</td>\n",
              "      <td>0.0</td>\n",
              "      <td>5472.0</td>\n",
              "      <td>21.5</td>\n",
              "      <td>13.0</td>\n",
              "      <td>f</td>\n",
              "      <td>INDIVIDUAL</td>\n",
              "      <td>0.0</td>\n",
              "      <td>0.0</td>\n",
              "      <td>823 Reid Ford\\r\\nDelacruzside, MA 00813</td>\n",
              "      <td>1</td>\n",
              "    </tr>\n",
              "    <tr>\n",
              "      <th>4</th>\n",
              "      <td>24375.0</td>\n",
              "      <td>60 months</td>\n",
              "      <td>17.27</td>\n",
              "      <td>609.33</td>\n",
              "      <td>C</td>\n",
              "      <td>C5</td>\n",
              "      <td>Destiny Management Inc.</td>\n",
              "      <td>9 years</td>\n",
              "      <td>MORTGAGE</td>\n",
              "      <td>55000.0</td>\n",
              "      <td>Verified</td>\n",
              "      <td>Apr-2013</td>\n",
              "      <td>Charged Off</td>\n",
              "      <td>credit_card</td>\n",
              "      <td>Credit Card Refinance</td>\n",
              "      <td>33.95</td>\n",
              "      <td>Mar-1999</td>\n",
              "      <td>13.0</td>\n",
              "      <td>0.0</td>\n",
              "      <td>24584.0</td>\n",
              "      <td>69.8</td>\n",
              "      <td>43.0</td>\n",
              "      <td>f</td>\n",
              "      <td>INDIVIDUAL</td>\n",
              "      <td>1.0</td>\n",
              "      <td>0.0</td>\n",
              "      <td>679 Luna Roads\\r\\nGreggshire, VA 11650</td>\n",
              "      <td>0</td>\n",
              "    </tr>\n",
              "  </tbody>\n",
              "</table>\n",
              "</div>"
            ],
            "text/plain": [
              "   loan_amnt  ... loan_repaid\n",
              "0    10000.0  ...           1\n",
              "1     8000.0  ...           1\n",
              "2    15600.0  ...           1\n",
              "3     7200.0  ...           1\n",
              "4    24375.0  ...           0\n",
              "\n",
              "[5 rows x 28 columns]"
            ]
          },
          "metadata": {
            "tags": []
          },
          "execution_count": 38
        }
      ]
    },
    {
      "cell_type": "markdown",
      "metadata": {
        "id": "cseUQnOiiONL",
        "colab_type": "text"
      },
      "source": [
        "# Missing Data\n",
        "\n",
        "**Let's explore this missing data columns. We use a variety of factors to decide whether or not they would be useful, to see if we should keep, discard, or fill in the missing data.**"
      ]
    },
    {
      "cell_type": "markdown",
      "metadata": {
        "id": "dw2XK6iiiYhg",
        "colab_type": "text"
      },
      "source": [
        "**TASK: What is the length of the dataframe?**"
      ]
    },
    {
      "cell_type": "code",
      "metadata": {
        "id": "AGF2AujLiPAu",
        "colab_type": "code",
        "colab": {
          "base_uri": "https://localhost:8080/",
          "height": 35
        },
        "outputId": "a4629484-aeb3-4ee1-dd95-efe8af0a9c6c"
      },
      "source": [
        "len(df)"
      ],
      "execution_count": 39,
      "outputs": [
        {
          "output_type": "execute_result",
          "data": {
            "text/plain": [
              "396030"
            ]
          },
          "metadata": {
            "tags": []
          },
          "execution_count": 39
        }
      ]
    },
    {
      "cell_type": "code",
      "metadata": {
        "id": "BhZagOByifhC",
        "colab_type": "code",
        "colab": {
          "base_uri": "https://localhost:8080/",
          "height": 532
        },
        "outputId": "0f06b148-3e6d-46f2-b59c-45cf8ede1c7a"
      },
      "source": [
        "df.isnull().sum()"
      ],
      "execution_count": 40,
      "outputs": [
        {
          "output_type": "execute_result",
          "data": {
            "text/plain": [
              "loan_amnt                   0\n",
              "term                        0\n",
              "int_rate                    0\n",
              "installment                 0\n",
              "grade                       0\n",
              "sub_grade                   0\n",
              "emp_title               22927\n",
              "emp_length              18301\n",
              "home_ownership              0\n",
              "annual_inc                  0\n",
              "verification_status         0\n",
              "issue_d                     0\n",
              "loan_status                 0\n",
              "purpose                     0\n",
              "title                    1755\n",
              "dti                         0\n",
              "earliest_cr_line            0\n",
              "open_acc                    0\n",
              "pub_rec                     0\n",
              "revol_bal                   0\n",
              "revol_util                276\n",
              "total_acc                   0\n",
              "initial_list_status         0\n",
              "application_type            0\n",
              "mort_acc                37795\n",
              "pub_rec_bankruptcies      535\n",
              "address                     0\n",
              "loan_repaid                 0\n",
              "dtype: int64"
            ]
          },
          "metadata": {
            "tags": []
          },
          "execution_count": 40
        }
      ]
    },
    {
      "cell_type": "markdown",
      "metadata": {
        "id": "ej6UNDLtimpg",
        "colab_type": "text"
      },
      "source": [
        "**TASK: Convert this Series to be in term of percentage of the total DataFrame**"
      ]
    },
    {
      "cell_type": "code",
      "metadata": {
        "id": "0-kk78uEiq7e",
        "colab_type": "code",
        "colab": {
          "base_uri": "https://localhost:8080/",
          "height": 532
        },
        "outputId": "55ad43dd-6175-42ff-dfae-e413d6eac624"
      },
      "source": [
        "100* df.isnull().sum()/len(df)"
      ],
      "execution_count": 41,
      "outputs": [
        {
          "output_type": "execute_result",
          "data": {
            "text/plain": [
              "loan_amnt               0.000000\n",
              "term                    0.000000\n",
              "int_rate                0.000000\n",
              "installment             0.000000\n",
              "grade                   0.000000\n",
              "sub_grade               0.000000\n",
              "emp_title               5.789208\n",
              "emp_length              4.621115\n",
              "home_ownership          0.000000\n",
              "annual_inc              0.000000\n",
              "verification_status     0.000000\n",
              "issue_d                 0.000000\n",
              "loan_status             0.000000\n",
              "purpose                 0.000000\n",
              "title                   0.443148\n",
              "dti                     0.000000\n",
              "earliest_cr_line        0.000000\n",
              "open_acc                0.000000\n",
              "pub_rec                 0.000000\n",
              "revol_bal               0.000000\n",
              "revol_util              0.069692\n",
              "total_acc               0.000000\n",
              "initial_list_status     0.000000\n",
              "application_type        0.000000\n",
              "mort_acc                9.543469\n",
              "pub_rec_bankruptcies    0.135091\n",
              "address                 0.000000\n",
              "loan_repaid             0.000000\n",
              "dtype: float64"
            ]
          },
          "metadata": {
            "tags": []
          },
          "execution_count": 41
        }
      ]
    },
    {
      "cell_type": "markdown",
      "metadata": {
        "id": "QKYiCp6uiwWB",
        "colab_type": "text"
      },
      "source": [
        "**TASK: Let's examine emp_title and emp_length to see whether it will be okay to drop them. Print out their feature information using the feat_info() function from the top of this notebook.**"
      ]
    },
    {
      "cell_type": "code",
      "metadata": {
        "id": "PP9VtLwriydd",
        "colab_type": "code",
        "colab": {
          "base_uri": "https://localhost:8080/",
          "height": 88
        },
        "outputId": "12fbc5a0-9bb7-41bc-91b6-2e0cdea286d5"
      },
      "source": [
        "feat_info('emp_title')\n",
        "print('\\n')\n",
        "feat_info('emp_length')"
      ],
      "execution_count": 42,
      "outputs": [
        {
          "output_type": "stream",
          "text": [
            "The job title supplied by the Borrower when applying for the loan.*\n",
            "\n",
            "\n",
            "Employment length in years. Possible values are between 0 and 10 where 0 means less than one year and 10 means ten or more years. \n"
          ],
          "name": "stdout"
        }
      ]
    },
    {
      "cell_type": "markdown",
      "metadata": {
        "id": "hsbA__2hi3zO",
        "colab_type": "text"
      },
      "source": [
        "**TASK: How many unique employment job titles are there?**"
      ]
    },
    {
      "cell_type": "code",
      "metadata": {
        "id": "bcaagA-Bi50o",
        "colab_type": "code",
        "colab": {
          "base_uri": "https://localhost:8080/",
          "height": 35
        },
        "outputId": "287166af-f932-43f2-9441-5e53fc94a311"
      },
      "source": [
        "df['emp_title'].nunique()"
      ],
      "execution_count": 43,
      "outputs": [
        {
          "output_type": "execute_result",
          "data": {
            "text/plain": [
              "173105"
            ]
          },
          "metadata": {
            "tags": []
          },
          "execution_count": 43
        }
      ]
    },
    {
      "cell_type": "code",
      "metadata": {
        "id": "6yYONd7Bi8Zl",
        "colab_type": "code",
        "colab": {
          "base_uri": "https://localhost:8080/",
          "height": 230
        },
        "outputId": "519f97df-36f6-497e-ab9a-6bcfe81bee4f"
      },
      "source": [
        "df['emp_title'].value_counts()"
      ],
      "execution_count": 44,
      "outputs": [
        {
          "output_type": "execute_result",
          "data": {
            "text/plain": [
              "Teacher                         4389\n",
              "Manager                         4250\n",
              "Registered Nurse                1856\n",
              "RN                              1846\n",
              "Supervisor                      1830\n",
              "                                ... \n",
              "Richards                           1\n",
              "National Safety and Security       1\n",
              "Haggar Clothing Company            1\n",
              "sears logistics                    1\n",
              "Behavioral Support Provider        1\n",
              "Name: emp_title, Length: 173105, dtype: int64"
            ]
          },
          "metadata": {
            "tags": []
          },
          "execution_count": 44
        }
      ]
    },
    {
      "cell_type": "markdown",
      "metadata": {
        "id": "wPLTzfLhi_Ti",
        "colab_type": "text"
      },
      "source": [
        "**TASK: Realistically there are too many unique job titles to try to convert this to a dummy variable feature. Let's remove that emp_title column.**"
      ]
    },
    {
      "cell_type": "code",
      "metadata": {
        "id": "FXFpXXYcjCUe",
        "colab_type": "code",
        "colab": {}
      },
      "source": [
        "df = df.drop('emp_title',axis=1)"
      ],
      "execution_count": 45,
      "outputs": []
    },
    {
      "cell_type": "markdown",
      "metadata": {
        "id": "BsNxYb5vjFes",
        "colab_type": "text"
      },
      "source": [
        "**TASK: Create a count plot of the emp_length feature column. Challenge: Sort the order of the values.**"
      ]
    },
    {
      "cell_type": "code",
      "metadata": {
        "id": "5yAhTv9njHor",
        "colab_type": "code",
        "colab": {
          "base_uri": "https://localhost:8080/",
          "height": 212
        },
        "outputId": "79ee2056-712a-4de3-b47c-76f06fcb62a3"
      },
      "source": [
        "sorted(df['emp_length'].dropna().unique())"
      ],
      "execution_count": 46,
      "outputs": [
        {
          "output_type": "execute_result",
          "data": {
            "text/plain": [
              "['1 year',\n",
              " '10+ years',\n",
              " '2 years',\n",
              " '3 years',\n",
              " '4 years',\n",
              " '5 years',\n",
              " '6 years',\n",
              " '7 years',\n",
              " '8 years',\n",
              " '9 years',\n",
              " '< 1 year']"
            ]
          },
          "metadata": {
            "tags": []
          },
          "execution_count": 46
        }
      ]
    },
    {
      "cell_type": "code",
      "metadata": {
        "id": "R_LaTe9rjK8j",
        "colab_type": "code",
        "colab": {}
      },
      "source": [
        "emp_length_order = [ '< 1 year',\n",
        "                      '1 year',\n",
        "                     '2 years',\n",
        "                     '3 years',\n",
        "                     '4 years',\n",
        "                     '5 years',\n",
        "                     '6 years',\n",
        "                     '7 years',\n",
        "                     '8 years',\n",
        "                     '9 years',\n",
        "                     '10+ years']"
      ],
      "execution_count": 47,
      "outputs": []
    },
    {
      "cell_type": "markdown",
      "metadata": {
        "id": "LzRCrs7kjRRL",
        "colab_type": "text"
      },
      "source": [
        "**TASK: Plot out the countplot with a hue separating Fully Paid vs Charged Off**"
      ]
    },
    {
      "cell_type": "code",
      "metadata": {
        "id": "BCjes5DmjNF1",
        "colab_type": "code",
        "colab": {
          "base_uri": "https://localhost:8080/",
          "height": 298
        },
        "outputId": "f4713892-ef85-4c27-d6db-59b805a51043"
      },
      "source": [
        "plt.figure(figsize=(12,4))\n",
        "\n",
        "sns.countplot(x='emp_length',data=df,order=emp_length_order)"
      ],
      "execution_count": 48,
      "outputs": [
        {
          "output_type": "execute_result",
          "data": {
            "text/plain": [
              "<matplotlib.axes._subplots.AxesSubplot at 0x7fc41ae450f0>"
            ]
          },
          "metadata": {
            "tags": []
          },
          "execution_count": 48
        },
        {
          "output_type": "display_data",
          "data": {
            "image/png": "[encoded data removed]",
            "text/plain": [
              "<Figure size 864x288 with 1 Axes>"
            ]
          },
          "metadata": {
            "tags": [],
            "needs_background": "light"
          }
        }
      ]
    },
    {
      "cell_type": "markdown",
      "metadata": {
        "id": "-RLy735xjlXB",
        "colab_type": "text"
      },
      "source": [
        "**CHALLENGE TASK: This still doesn't really inform us if there is a strong relationship between employment length and being charged off, what we want is the percentage of charge offs per category. Essentially informing us what percent of people per employment category didn't pay back their loan. There are a multitude of ways to create this Series. Once you've created it, see if visualize it with a [bar plot](https://pandas.pydata.org/pandas-docs/version/0.23.4/generated/pandas.DataFrame.plot.html). This may be tricky, refer to solutions if you get stuck on creating this Series.**"
      ]
    },
    {
      "cell_type": "code",
      "metadata": {
        "id": "WnHN4KN_j79x",
        "colab_type": "code",
        "colab": {}
      },
      "source": [
        "emp_co = df[df['loan_status']==\"Charged Off\"].groupby(\"emp_length\").count()['loan_status']\n",
        "emp_fp = df[df['loan_status']==\"Fully Paid\"].groupby(\"emp_length\").count()['loan_status']\n",
        "emp_len = emp_co/emp_fp\n"
      ],
      "execution_count": 49,
      "outputs": []
    },
    {
      "cell_type": "code",
      "metadata": {
        "id": "2lqpjN-mkEtd",
        "colab_type": "code",
        "colab": {
          "base_uri": "https://localhost:8080/",
          "height": 248
        },
        "outputId": "72f6ad2c-133f-430e-a93e-4109fc403dd7"
      },
      "source": [
        "emp_len"
      ],
      "execution_count": 50,
      "outputs": [
        {
          "output_type": "execute_result",
          "data": {
            "text/plain": [
              "emp_length\n",
              "1 year       0.248649\n",
              "10+ years    0.225770\n",
              "2 years      0.239560\n",
              "3 years      0.242593\n",
              "4 years      0.238213\n",
              "5 years      0.237911\n",
              "6 years      0.233341\n",
              "7 years      0.241887\n",
              "8 years      0.249625\n",
              "9 years      0.250735\n",
              "< 1 year     0.260830\n",
              "Name: loan_status, dtype: float64"
            ]
          },
          "metadata": {
            "tags": []
          },
          "execution_count": 50
        }
      ]
    },
    {
      "cell_type": "code",
      "metadata": {
        "id": "MlaaRFYykFK7",
        "colab_type": "code",
        "colab": {
          "base_uri": "https://localhost:8080/",
          "height": 340
        },
        "outputId": "3d6b9806-65b4-4606-808b-6a8829765282"
      },
      "source": [
        "emp_len.plot(kind='bar')"
      ],
      "execution_count": 51,
      "outputs": [
        {
          "output_type": "execute_result",
          "data": {
            "text/plain": [
              "<matplotlib.axes._subplots.AxesSubplot at 0x7fc41ae689e8>"
            ]
          },
          "metadata": {
            "tags": []
          },
          "execution_count": 51
        },
        {
          "output_type": "display_data",
          "data": {
            "image/png": "[encoded data removed]",
            "text/plain": [
              "<Figure size 432x288 with 1 Axes>"
            ]
          },
          "metadata": {
            "tags": [],
            "needs_background": "light"
          }
        }
      ]
    },
    {
      "cell_type": "markdown",
      "metadata": {
        "id": "7AeNVakVkLib",
        "colab_type": "text"
      },
      "source": [
        "**TASK: Charge off rates are extremely similar across all employment lengths. Go ahead and drop the emp_length column.**"
      ]
    },
    {
      "cell_type": "code",
      "metadata": {
        "id": "KJh-ftY0kN27",
        "colab_type": "code",
        "colab": {}
      },
      "source": [
        "df = df.drop('emp_length',axis=1)"
      ],
      "execution_count": 52,
      "outputs": []
    },
    {
      "cell_type": "markdown",
      "metadata": {
        "id": "my5skmIxkQ8k",
        "colab_type": "text"
      },
      "source": [
        "**TASK: Revisit the DataFrame to see what feature columns still have missing data.**"
      ]
    },
    {
      "cell_type": "code",
      "metadata": {
        "id": "_yklmzpOkVYe",
        "colab_type": "code",
        "colab": {
          "base_uri": "https://localhost:8080/",
          "height": 497
        },
        "outputId": "a5bf2709-4392-474b-be24-218e79aa3398"
      },
      "source": [
        "df.isnull().sum()"
      ],
      "execution_count": 53,
      "outputs": [
        {
          "output_type": "execute_result",
          "data": {
            "text/plain": [
              "loan_amnt                   0\n",
              "term                        0\n",
              "int_rate                    0\n",
              "installment                 0\n",
              "grade                       0\n",
              "sub_grade                   0\n",
              "home_ownership              0\n",
              "annual_inc                  0\n",
              "verification_status         0\n",
              "issue_d                     0\n",
              "loan_status                 0\n",
              "purpose                     0\n",
              "title                    1755\n",
              "dti                         0\n",
              "earliest_cr_line            0\n",
              "open_acc                    0\n",
              "pub_rec                     0\n",
              "revol_bal                   0\n",
              "revol_util                276\n",
              "total_acc                   0\n",
              "initial_list_status         0\n",
              "application_type            0\n",
              "mort_acc                37795\n",
              "pub_rec_bankruptcies      535\n",
              "address                     0\n",
              "loan_repaid                 0\n",
              "dtype: int64"
            ]
          },
          "metadata": {
            "tags": []
          },
          "execution_count": 53
        }
      ]
    },
    {
      "cell_type": "markdown",
      "metadata": {
        "id": "bHvQCZWRkb4m",
        "colab_type": "text"
      },
      "source": [
        "**TASK: Review the title column vs the purpose column. Is this repeated information?**"
      ]
    },
    {
      "cell_type": "code",
      "metadata": {
        "id": "_eVoc58pkd15",
        "colab_type": "code",
        "colab": {
          "base_uri": "https://localhost:8080/",
          "height": 212
        },
        "outputId": "86257177-5712-4c8f-b586-cb6f180f9295"
      },
      "source": [
        "df['purpose'].head(10)"
      ],
      "execution_count": 54,
      "outputs": [
        {
          "output_type": "execute_result",
          "data": {
            "text/plain": [
              "0              vacation\n",
              "1    debt_consolidation\n",
              "2           credit_card\n",
              "3           credit_card\n",
              "4           credit_card\n",
              "5    debt_consolidation\n",
              "6      home_improvement\n",
              "7           credit_card\n",
              "8    debt_consolidation\n",
              "9    debt_consolidation\n",
              "Name: purpose, dtype: object"
            ]
          },
          "metadata": {
            "tags": []
          },
          "execution_count": 54
        }
      ]
    },
    {
      "cell_type": "code",
      "metadata": {
        "id": "M2fy-aLpkgpQ",
        "colab_type": "code",
        "colab": {
          "base_uri": "https://localhost:8080/",
          "height": 212
        },
        "outputId": "130100a6-789b-467a-f30c-3aaab14407d7"
      },
      "source": [
        "df['title'].head(10)"
      ],
      "execution_count": 55,
      "outputs": [
        {
          "output_type": "execute_result",
          "data": {
            "text/plain": [
              "0                   Vacation\n",
              "1         Debt consolidation\n",
              "2    Credit card refinancing\n",
              "3    Credit card refinancing\n",
              "4      Credit Card Refinance\n",
              "5         Debt consolidation\n",
              "6           Home improvement\n",
              "7       No More Credit Cards\n",
              "8         Debt consolidation\n",
              "9         Debt Consolidation\n",
              "Name: title, dtype: object"
            ]
          },
          "metadata": {
            "tags": []
          },
          "execution_count": 55
        }
      ]
    },
    {
      "cell_type": "markdown",
      "metadata": {
        "id": "jaQoVd80kj9Z",
        "colab_type": "text"
      },
      "source": [
        "**TASK: The title column is simply a string subcategory/description of the purpose column. Go ahead and drop the title column.**"
      ]
    },
    {
      "cell_type": "code",
      "metadata": {
        "id": "0tXkzxbzkmR-",
        "colab_type": "code",
        "colab": {}
      },
      "source": [
        "df = df.drop('title',axis=1)"
      ],
      "execution_count": 56,
      "outputs": []
    },
    {
      "cell_type": "markdown",
      "metadata": {
        "id": "douVSMbQkw70",
        "colab_type": "text"
      },
      "source": [
        "---\n",
        "**NOTE: This is one of the hardest parts of the project! Refer to the solutions video if you need guidance, feel free to fill or drop the missing values of the mort_acc however you see fit! Here we're going with a very specific approach.**\n",
        "\n",
        "\n",
        "---\n",
        "**TASK: Find out what the mort_acc feature represents**"
      ]
    },
    {
      "cell_type": "code",
      "metadata": {
        "id": "c8YCFFo1ky9A",
        "colab_type": "code",
        "colab": {
          "base_uri": "https://localhost:8080/",
          "height": 35
        },
        "outputId": "f5979613-8346-4e38-ff27-998ab5df135f"
      },
      "source": [
        "feat_info('mort_acc')"
      ],
      "execution_count": 57,
      "outputs": [
        {
          "output_type": "stream",
          "text": [
            "Number of mortgage accounts.\n"
          ],
          "name": "stdout"
        }
      ]
    },
    {
      "cell_type": "markdown",
      "metadata": {
        "id": "bMM_iy3sk16z",
        "colab_type": "text"
      },
      "source": [
        "**TASK: Create a value_counts of the mort_acc column.**"
      ]
    },
    {
      "cell_type": "code",
      "metadata": {
        "id": "o5fXzW0Gk3rU",
        "colab_type": "code",
        "colab": {
          "base_uri": "https://localhost:8080/",
          "height": 621
        },
        "outputId": "d89aac18-d05a-4c71-fd35-a1b3e418caf6"
      },
      "source": [
        "df['mort_acc'].value_counts()"
      ],
      "execution_count": 58,
      "outputs": [
        {
          "output_type": "execute_result",
          "data": {
            "text/plain": [
              "0.0     139777\n",
              "1.0      60416\n",
              "2.0      49948\n",
              "3.0      38049\n",
              "4.0      27887\n",
              "5.0      18194\n",
              "6.0      11069\n",
              "7.0       6052\n",
              "8.0       3121\n",
              "9.0       1656\n",
              "10.0       865\n",
              "11.0       479\n",
              "12.0       264\n",
              "13.0       146\n",
              "14.0       107\n",
              "15.0        61\n",
              "16.0        37\n",
              "17.0        22\n",
              "18.0        18\n",
              "19.0        15\n",
              "20.0        13\n",
              "24.0        10\n",
              "22.0         7\n",
              "21.0         4\n",
              "25.0         4\n",
              "27.0         3\n",
              "23.0         2\n",
              "32.0         2\n",
              "26.0         2\n",
              "31.0         2\n",
              "30.0         1\n",
              "28.0         1\n",
              "34.0         1\n",
              "Name: mort_acc, dtype: int64"
            ]
          },
          "metadata": {
            "tags": []
          },
          "execution_count": 58
        }
      ]
    },
    {
      "cell_type": "markdown",
      "metadata": {
        "id": "NcLj4plek7V1",
        "colab_type": "text"
      },
      "source": [
        "**TASK: Create a value_counts of the mort_acc column.**"
      ]
    },
    {
      "cell_type": "code",
      "metadata": {
        "id": "cR65B7Fkk9OP",
        "colab_type": "code",
        "colab": {
          "base_uri": "https://localhost:8080/",
          "height": 621
        },
        "outputId": "2790fc0c-d74e-412e-b9c0-9823bd5e3162"
      },
      "source": [
        "df['mort_acc'].value_counts()"
      ],
      "execution_count": 59,
      "outputs": [
        {
          "output_type": "execute_result",
          "data": {
            "text/plain": [
              "0.0     139777\n",
              "1.0      60416\n",
              "2.0      49948\n",
              "3.0      38049\n",
              "4.0      27887\n",
              "5.0      18194\n",
              "6.0      11069\n",
              "7.0       6052\n",
              "8.0       3121\n",
              "9.0       1656\n",
              "10.0       865\n",
              "11.0       479\n",
              "12.0       264\n",
              "13.0       146\n",
              "14.0       107\n",
              "15.0        61\n",
              "16.0        37\n",
              "17.0        22\n",
              "18.0        18\n",
              "19.0        15\n",
              "20.0        13\n",
              "24.0        10\n",
              "22.0         7\n",
              "21.0         4\n",
              "25.0         4\n",
              "27.0         3\n",
              "23.0         2\n",
              "32.0         2\n",
              "26.0         2\n",
              "31.0         2\n",
              "30.0         1\n",
              "28.0         1\n",
              "34.0         1\n",
              "Name: mort_acc, dtype: int64"
            ]
          },
          "metadata": {
            "tags": []
          },
          "execution_count": 59
        }
      ]
    },
    {
      "cell_type": "markdown",
      "metadata": {
        "id": "3kIy_-7LlCu6",
        "colab_type": "text"
      },
      "source": [
        "**TASK: There are many ways we could deal with this missing data. We could attempt to build a simple model to fill it in, such as a linear model, we could just fill it in based on the mean of the other columns, or you could even bin the columns into categories and then set NaN as its own category. There is no 100% correct approach! Let's review the other columsn to see which most highly correlates to mort_acc**"
      ]
    },
    {
      "cell_type": "code",
      "metadata": {
        "id": "AAq-6ZyQlEu4",
        "colab_type": "code",
        "colab": {
          "base_uri": "https://localhost:8080/",
          "height": 284
        },
        "outputId": "d72d038a-8b80-49cb-841d-e30e8e30809b"
      },
      "source": [
        "print(\"Correlation with the mort_acc column\")\n",
        "df.corr()['mort_acc'].sort_values()"
      ],
      "execution_count": 60,
      "outputs": [
        {
          "output_type": "stream",
          "text": [
            "Correlation with the mort_acc column\n"
          ],
          "name": "stdout"
        },
        {
          "output_type": "execute_result",
          "data": {
            "text/plain": [
              "int_rate               -0.082583\n",
              "dti                    -0.025439\n",
              "revol_util              0.007514\n",
              "pub_rec                 0.011552\n",
              "pub_rec_bankruptcies    0.027239\n",
              "loan_repaid             0.073111\n",
              "open_acc                0.109205\n",
              "installment             0.193694\n",
              "revol_bal               0.194925\n",
              "loan_amnt               0.222315\n",
              "annual_inc              0.236320\n",
              "total_acc               0.381072\n",
              "mort_acc                1.000000\n",
              "Name: mort_acc, dtype: float64"
            ]
          },
          "metadata": {
            "tags": []
          },
          "execution_count": 60
        }
      ]
    },
    {
      "cell_type": "markdown",
      "metadata": {
        "id": "vtgdbsjXlKni",
        "colab_type": "text"
      },
      "source": [
        "**TASK: Looks like the total_acc feature correlates with the mort_acc , this makes sense! Let's try this fillna() approach. We will group the dataframe by the total_acc and calculate the mean value for the mort_acc per total_acc entry. To get the result below:**"
      ]
    },
    {
      "cell_type": "code",
      "metadata": {
        "id": "qwDt4k7NlMcR",
        "colab_type": "code",
        "colab": {
          "base_uri": "https://localhost:8080/",
          "height": 266
        },
        "outputId": "9b21a27a-f15e-4419-84f1-79a905399ea1"
      },
      "source": [
        "print(\"Mean of mort_acc column per total_acc\")\n",
        "df.groupby('total_acc').mean()['mort_acc']"
      ],
      "execution_count": 61,
      "outputs": [
        {
          "output_type": "stream",
          "text": [
            "Mean of mort_acc column per total_acc\n"
          ],
          "name": "stdout"
        },
        {
          "output_type": "execute_result",
          "data": {
            "text/plain": [
              "total_acc\n",
              "2.0      0.000000\n",
              "3.0      0.052023\n",
              "4.0      0.066743\n",
              "5.0      0.103289\n",
              "6.0      0.151293\n",
              "           ...   \n",
              "124.0    1.000000\n",
              "129.0    1.000000\n",
              "135.0    3.000000\n",
              "150.0    2.000000\n",
              "151.0    0.000000\n",
              "Name: mort_acc, Length: 118, dtype: float64"
            ]
          },
          "metadata": {
            "tags": []
          },
          "execution_count": 61
        }
      ]
    },
    {
      "cell_type": "markdown",
      "metadata": {
        "id": "-yd4fIgGlRxd",
        "colab_type": "text"
      },
      "source": [
        "**CHALLENGE TASK: Let's fill in the missing mort_acc values based on their total_acc value. If the mort_acc is missing, then we will fill in that missing value with the mean value corresponding to its total_acc value from the Series we created above. This involves using an .apply() method with two columns. Check out the link below for more info, or review the solutions video/notebook.**\n",
        "\n",
        "[Helpful Link](https://stackoverflow.com/questions/13331698/how-to-apply-a-function-to-two-columns-of-pandas-dataframe) "
      ]
    },
    {
      "cell_type": "code",
      "metadata": {
        "id": "Xd5aWbU3lTgI",
        "colab_type": "code",
        "colab": {}
      },
      "source": [
        "total_acc_avg = df.groupby('total_acc').mean()['mort_acc']"
      ],
      "execution_count": 62,
      "outputs": []
    },
    {
      "cell_type": "code",
      "metadata": {
        "id": "gwvBHFZqlVGu",
        "colab_type": "code",
        "colab": {
          "base_uri": "https://localhost:8080/",
          "height": 35
        },
        "outputId": "b11454f6-6943-4264-f351-11ece0085754"
      },
      "source": [
        "total_acc_avg[2.0]"
      ],
      "execution_count": 63,
      "outputs": [
        {
          "output_type": "execute_result",
          "data": {
            "text/plain": [
              "0.0"
            ]
          },
          "metadata": {
            "tags": []
          },
          "execution_count": 63
        }
      ]
    },
    {
      "cell_type": "code",
      "metadata": {
        "id": "_hBYn5ZelYoK",
        "colab_type": "code",
        "colab": {}
      },
      "source": [
        "def fill_mort_acc(total_acc,mort_acc):\n",
        "    '''\n",
        "    Accepts the total_acc and mort_acc values for the row.\n",
        "    Checks if the mort_acc is NaN , if so, it returns the avg mort_acc value\n",
        "    for the corresponding total_acc value for that row.\n",
        "    \n",
        "    total_acc_avg here should be a Series or dictionary containing the mapping of the\n",
        "    groupby averages of mort_acc per total_acc values.\n",
        "    '''\n",
        "    if np.isnan(mort_acc):\n",
        "        return total_acc_avg[total_acc]\n",
        "    else:\n",
        "        return mort_acc"
      ],
      "execution_count": 64,
      "outputs": []
    },
    {
      "cell_type": "code",
      "metadata": {
        "id": "77vPQW13lb1C",
        "colab_type": "code",
        "colab": {}
      },
      "source": [
        "df['mort_acc'] = df.apply(lambda x: fill_mort_acc(x['total_acc'], x['mort_acc']), axis=1)"
      ],
      "execution_count": 65,
      "outputs": []
    },
    {
      "cell_type": "code",
      "metadata": {
        "id": "ej_0-O4alev-",
        "colab_type": "code",
        "colab": {
          "base_uri": "https://localhost:8080/",
          "height": 479
        },
        "outputId": "b7d67ed6-f6bc-4957-f777-1ab93f910204"
      },
      "source": [
        "df.isnull().sum()"
      ],
      "execution_count": 66,
      "outputs": [
        {
          "output_type": "execute_result",
          "data": {
            "text/plain": [
              "loan_amnt                 0\n",
              "term                      0\n",
              "int_rate                  0\n",
              "installment               0\n",
              "grade                     0\n",
              "sub_grade                 0\n",
              "home_ownership            0\n",
              "annual_inc                0\n",
              "verification_status       0\n",
              "issue_d                   0\n",
              "loan_status               0\n",
              "purpose                   0\n",
              "dti                       0\n",
              "earliest_cr_line          0\n",
              "open_acc                  0\n",
              "pub_rec                   0\n",
              "revol_bal                 0\n",
              "revol_util              276\n",
              "total_acc                 0\n",
              "initial_list_status       0\n",
              "application_type          0\n",
              "mort_acc                  0\n",
              "pub_rec_bankruptcies    535\n",
              "address                   0\n",
              "loan_repaid               0\n",
              "dtype: int64"
            ]
          },
          "metadata": {
            "tags": []
          },
          "execution_count": 66
        }
      ]
    },
    {
      "cell_type": "markdown",
      "metadata": {
        "id": "SgKfbFDgloVl",
        "colab_type": "text"
      },
      "source": [
        "**TASK: revol_util and the pub_rec_bankruptcies have missing data points, but they account for less than 0.5% of the total data. Go ahead and remove the rows that are missing those values in those columns with dropna().**"
      ]
    },
    {
      "cell_type": "code",
      "metadata": {
        "id": "uYmFZObUlqLg",
        "colab_type": "code",
        "colab": {}
      },
      "source": [
        "df = df.dropna()"
      ],
      "execution_count": 67,
      "outputs": []
    },
    {
      "cell_type": "code",
      "metadata": {
        "id": "Y4xpZEkxlsGu",
        "colab_type": "code",
        "colab": {
          "base_uri": "https://localhost:8080/",
          "height": 479
        },
        "outputId": "c86442f2-cc98-4037-ff14-346ec91fa24a"
      },
      "source": [
        "df.isnull().sum()"
      ],
      "execution_count": 68,
      "outputs": [
        {
          "output_type": "execute_result",
          "data": {
            "text/plain": [
              "loan_amnt               0\n",
              "term                    0\n",
              "int_rate                0\n",
              "installment             0\n",
              "grade                   0\n",
              "sub_grade               0\n",
              "home_ownership          0\n",
              "annual_inc              0\n",
              "verification_status     0\n",
              "issue_d                 0\n",
              "loan_status             0\n",
              "purpose                 0\n",
              "dti                     0\n",
              "earliest_cr_line        0\n",
              "open_acc                0\n",
              "pub_rec                 0\n",
              "revol_bal               0\n",
              "revol_util              0\n",
              "total_acc               0\n",
              "initial_list_status     0\n",
              "application_type        0\n",
              "mort_acc                0\n",
              "pub_rec_bankruptcies    0\n",
              "address                 0\n",
              "loan_repaid             0\n",
              "dtype: int64"
            ]
          },
          "metadata": {
            "tags": []
          },
          "execution_count": 68
        }
      ]
    },
    {
      "cell_type": "markdown",
      "metadata": {
        "id": "5m-TQdRlmAWJ",
        "colab_type": "text"
      },
      "source": [
        "## Categorical Variables and Dummy Variables\n",
        "\n",
        "**We're done working with the missing data! Now we just need to deal with the string values due to the categorical columns.**\n",
        "\n",
        "**TASK: List all the columns that are currently non-numeric. [Helpful Link](https://stackoverflow.com/questions/22470690/get-list-of-pandas-dataframe-columns-based-on-data-type)**\n",
        "\n",
        "[Another very useful method call](https://pandas.pydata.org/pandas-docs/stable/reference/api/pandas.DataFrame.select_dtypes.html)"
      ]
    },
    {
      "cell_type": "code",
      "metadata": {
        "id": "noOnYLiPmDqd",
        "colab_type": "code",
        "colab": {
          "base_uri": "https://localhost:8080/",
          "height": 88
        },
        "outputId": "b12de79e-dd1f-4c81-934d-e7bb416f3e7d"
      },
      "source": [
        "df.select_dtypes(['object']).columns"
      ],
      "execution_count": 69,
      "outputs": [
        {
          "output_type": "execute_result",
          "data": {
            "text/plain": [
              "Index(['term', 'grade', 'sub_grade', 'home_ownership', 'verification_status',\n",
              "       'issue_d', 'loan_status', 'purpose', 'earliest_cr_line',\n",
              "       'initial_list_status', 'application_type', 'address'],\n",
              "      dtype='object')"
            ]
          },
          "metadata": {
            "tags": []
          },
          "execution_count": 69
        }
      ]
    },
    {
      "cell_type": "markdown",
      "metadata": {
        "id": "ZzUfpjtKmJVd",
        "colab_type": "text"
      },
      "source": [
        "---\n",
        "**Let's now go through all the string features to see what we should do with them.**\n",
        "\n",
        "---\n",
        "\n",
        "\n",
        "### term feature\n",
        "\n",
        "**TASK: Convert the term feature into either a 36 or 60 integer numeric data type using .apply() or .map().**"
      ]
    },
    {
      "cell_type": "code",
      "metadata": {
        "id": "iPUF95fkmLJ8",
        "colab_type": "code",
        "colab": {
          "base_uri": "https://localhost:8080/",
          "height": 70
        },
        "outputId": "9aee7d2c-cb20-41c6-c046-dc085b090847"
      },
      "source": [
        "df['term'].value_counts()"
      ],
      "execution_count": 75,
      "outputs": [
        {
          "output_type": "execute_result",
          "data": {
            "text/plain": [
              "36    301247\n",
              "60     93972\n",
              "Name: term, dtype: int64"
            ]
          },
          "metadata": {
            "tags": []
          },
          "execution_count": 75
        }
      ]
    },
    {
      "cell_type": "code",
      "metadata": {
        "id": "6P6FiKBAmSN0",
        "colab_type": "code",
        "colab": {
          "base_uri": "https://localhost:8080/",
          "height": 230
        },
        "outputId": "201d6562-4081-4b22-e3e2-d1f627511a9e"
      },
      "source": [
        "# Or just use .map()\n",
        "df['term'] = df['term'].apply(lambda term: (term[:3]))\n",
        "df['term']"
      ],
      "execution_count": 81,
      "outputs": [
        {
          "output_type": "execute_result",
          "data": {
            "text/plain": [
              "0         36\n",
              "1         36\n",
              "2         36\n",
              "3         36\n",
              "4         60\n",
              "          ..\n",
              "396025    60\n",
              "396026    36\n",
              "396027    36\n",
              "396028    60\n",
              "396029    36\n",
              "Name: term, Length: 395219, dtype: int64"
            ]
          },
          "metadata": {
            "tags": []
          },
          "execution_count": 81
        }
      ]
    },
    {
      "cell_type": "markdown",
      "metadata": {
        "id": "dFPZ-ch1mYo2",
        "colab_type": "text"
      },
      "source": [
        "### grade feature\n",
        "\n",
        "**TASK: We already know grade is part of sub_grade, so just drop the grade feature.**"
      ]
    },
    {
      "cell_type": "code",
      "metadata": {
        "id": "Z7350f9PmbfW",
        "colab_type": "code",
        "colab": {}
      },
      "source": [
        "df = df.drop('grade',axis=1)"
      ],
      "execution_count": 82,
      "outputs": []
    },
    {
      "cell_type": "markdown",
      "metadata": {
        "id": "VwECXRLWmiO3",
        "colab_type": "text"
      },
      "source": [
        "**TASK: Convert the subgrade into dummy variables. Then concatenate these new columns to the original dataframe. Remember to drop the original subgrade column and to add drop_first=True to your get_dummies call.**"
      ]
    },
    {
      "cell_type": "code",
      "metadata": {
        "id": "_nGMMFrVmkwk",
        "colab_type": "code",
        "colab": {}
      },
      "source": [
        "subgrade_dummies = pd.get_dummies(df['sub_grade'],drop_first=True)"
      ],
      "execution_count": 83,
      "outputs": []
    },
    {
      "cell_type": "code",
      "metadata": {
        "id": "ADbypL2Vmmvv",
        "colab_type": "code",
        "colab": {}
      },
      "source": [
        "df = pd.concat([df.drop('sub_grade',axis=1),subgrade_dummies],axis=1)"
      ],
      "execution_count": 84,
      "outputs": []
    },
    {
      "cell_type": "code",
      "metadata": {
        "id": "LQMcYzzYmrYo",
        "colab_type": "code",
        "colab": {
          "base_uri": "https://localhost:8080/",
          "height": 195
        },
        "outputId": "3be6e628-ef54-4497-f01c-8391255e7293"
      },
      "source": [
        "df.columns"
      ],
      "execution_count": 85,
      "outputs": [
        {
          "output_type": "execute_result",
          "data": {
            "text/plain": [
              "Index(['loan_amnt', 'term', 'int_rate', 'installment', 'home_ownership',\n",
              "       'annual_inc', 'verification_status', 'issue_d', 'loan_status',\n",
              "       'purpose', 'dti', 'earliest_cr_line', 'open_acc', 'pub_rec',\n",
              "       'revol_bal', 'revol_util', 'total_acc', 'initial_list_status',\n",
              "       'application_type', 'mort_acc', 'pub_rec_bankruptcies', 'address',\n",
              "       'loan_repaid', 'A2', 'A3', 'A4', 'A5', 'B1', 'B2', 'B3', 'B4', 'B5',\n",
              "       'C1', 'C2', 'C3', 'C4', 'C5', 'D1', 'D2', 'D3', 'D4', 'D5', 'E1', 'E2',\n",
              "       'E3', 'E4', 'E5', 'F1', 'F2', 'F3', 'F4', 'F5', 'G1', 'G2', 'G3', 'G4',\n",
              "       'G5'],\n",
              "      dtype='object')"
            ]
          },
          "metadata": {
            "tags": []
          },
          "execution_count": 85
        }
      ]
    },
    {
      "cell_type": "code",
      "metadata": {
        "id": "8S8i8XfGmuuD",
        "colab_type": "code",
        "colab": {
          "base_uri": "https://localhost:8080/",
          "height": 88
        },
        "outputId": "d91871ef-6599-4d54-d4bb-757e0017163e"
      },
      "source": [
        "df.select_dtypes(['object']).columns"
      ],
      "execution_count": 86,
      "outputs": [
        {
          "output_type": "execute_result",
          "data": {
            "text/plain": [
              "Index(['home_ownership', 'verification_status', 'issue_d', 'loan_status',\n",
              "       'purpose', 'earliest_cr_line', 'initial_list_status',\n",
              "       'application_type', 'address'],\n",
              "      dtype='object')"
            ]
          },
          "metadata": {
            "tags": []
          },
          "execution_count": 86
        }
      ]
    },
    {
      "cell_type": "markdown",
      "metadata": {
        "id": "Zu3kWVOom1kE",
        "colab_type": "text"
      },
      "source": [
        "### verification_status, application_type,initial_list_status,purpose \n",
        "**TASK: Convert these columns: ['verification_status', 'application_type','initial_list_status','purpose'] into dummy variables and concatenate them with the original dataframe. Remember to set drop_first=True and to drop the original columns.**"
      ]
    },
    {
      "cell_type": "code",
      "metadata": {
        "id": "Y6fuCU9bm5TO",
        "colab_type": "code",
        "colab": {}
      },
      "source": [
        "dummies = pd.get_dummies(df[['verification_status', 'application_type','initial_list_status','purpose' ]],drop_first=True)\n",
        "df = df.drop(['verification_status', 'application_type','initial_list_status','purpose'],axis=1)\n",
        "df = pd.concat([df,dummies],axis=1)"
      ],
      "execution_count": 87,
      "outputs": []
    },
    {
      "cell_type": "markdown",
      "metadata": {
        "id": "GGNSNhsDm_dl",
        "colab_type": "text"
      },
      "source": [
        "### home_ownership\n",
        "**TASK:Review the value_counts for the home_ownership column.**"
      ]
    },
    {
      "cell_type": "code",
      "metadata": {
        "id": "XKeV2mBynCTz",
        "colab_type": "code",
        "colab": {
          "base_uri": "https://localhost:8080/",
          "height": 141
        },
        "outputId": "b971aa24-cbcb-491c-f302-73fcdf344a27"
      },
      "source": [
        "df['home_ownership'].value_counts()"
      ],
      "execution_count": 88,
      "outputs": [
        {
          "output_type": "execute_result",
          "data": {
            "text/plain": [
              "MORTGAGE    198022\n",
              "RENT        159395\n",
              "OWN          37660\n",
              "OTHER          110\n",
              "NONE            29\n",
              "ANY              3\n",
              "Name: home_ownership, dtype: int64"
            ]
          },
          "metadata": {
            "tags": []
          },
          "execution_count": 88
        }
      ]
    },
    {
      "cell_type": "markdown",
      "metadata": {
        "id": "Fh3NlT_XnI7v",
        "colab_type": "text"
      },
      "source": [
        "**TASK: Convert these to dummy variables, but [replace](https://pandas.pydata.org/pandas-docs/stable/reference/api/pandas.DataFrame.replace.html) NONE and ANY with OTHER, so that we end up with just 4 categories, MORTGAGE, RENT, OWN, OTHER. Then concatenate them with the original dataframe. Remember to set drop_first=True and to drop the original columns.**"
      ]
    },
    {
      "cell_type": "code",
      "metadata": {
        "id": "bPVitBTenLou",
        "colab_type": "code",
        "colab": {}
      },
      "source": [
        "df['home_ownership']=df['home_ownership'].replace(['NONE', 'ANY'], 'OTHER')\n",
        "\n",
        "dummies = pd.get_dummies(df['home_ownership'],drop_first=True)\n",
        "df = df.drop('home_ownership',axis=1)\n",
        "df = pd.concat([df,dummies],axis=1)"
      ],
      "execution_count": 89,
      "outputs": []
    },
    {
      "cell_type": "markdown",
      "metadata": {
        "id": "_Cre2FGynTrP",
        "colab_type": "text"
      },
      "source": [
        "### address\n",
        "**TASK: Let's feature engineer a zip code column from the address in the data set. Create a column called 'zip_code' that extracts the zip code from the address column.**"
      ]
    },
    {
      "cell_type": "code",
      "metadata": {
        "id": "EjtoktMGnWUH",
        "colab_type": "code",
        "colab": {}
      },
      "source": [
        "df['zip_code'] = df['address'].apply(lambda address:address[-5:])"
      ],
      "execution_count": 90,
      "outputs": []
    },
    {
      "cell_type": "markdown",
      "metadata": {
        "id": "kCje_Fh7n171",
        "colab_type": "text"
      },
      "source": [
        "**TASK: Now make this zip_code column into dummy variables using pandas. Concatenate the result and drop the original zip_code column along with dropping the address column.**"
      ]
    },
    {
      "cell_type": "code",
      "metadata": {
        "id": "NN4MJQajn66d",
        "colab_type": "code",
        "colab": {}
      },
      "source": [
        "dummies = pd.get_dummies(df['zip_code'],drop_first=True)\n",
        "df = df.drop(['zip_code','address'],axis=1)\n",
        "df = pd.concat([df,dummies],axis=1)"
      ],
      "execution_count": 91,
      "outputs": []
    },
    {
      "cell_type": "markdown",
      "metadata": {
        "id": "9XRMqbXsoBjs",
        "colab_type": "text"
      },
      "source": [
        "### issue_d \n",
        "\n",
        "**TASK: This would be data leakage, we wouldn't know beforehand whether or not a loan would be issued when using our model, so in theory we wouldn't have an issue_date, drop this feature.**"
      ]
    },
    {
      "cell_type": "code",
      "metadata": {
        "id": "WJ-2KI-IoFU7",
        "colab_type": "code",
        "colab": {}
      },
      "source": [
        "df = df.drop('issue_d',axis=1)"
      ],
      "execution_count": 92,
      "outputs": []
    },
    {
      "cell_type": "markdown",
      "metadata": {
        "id": "My3l86Z_oMn9",
        "colab_type": "text"
      },
      "source": [
        "### earliest_cr_line\n",
        "**TASK: This appears to be a historical time stamp feature. Extract the year from this feature using a .apply function, then convert it to a numeric feature. Set this new data to a feature column called 'earliest_cr_year'.Then drop the earliest_cr_line feature.**"
      ]
    },
    {
      "cell_type": "code",
      "metadata": {
        "id": "cCVT_Au8oRHS",
        "colab_type": "code",
        "colab": {}
      },
      "source": [
        "df['earliest_cr_year'] = df['earliest_cr_line'].apply(lambda date:int(date[-4:]))\n",
        "df = df.drop('earliest_cr_line',axis=1)"
      ],
      "execution_count": 93,
      "outputs": []
    },
    {
      "cell_type": "code",
      "metadata": {
        "id": "p1K_Wb_BoT3A",
        "colab_type": "code",
        "colab": {
          "base_uri": "https://localhost:8080/",
          "height": 35
        },
        "outputId": "c47a9b79-ab79-46f4-f293-b36fda36a6c6"
      },
      "source": [
        "df.select_dtypes(['object']).columns"
      ],
      "execution_count": 94,
      "outputs": [
        {
          "output_type": "execute_result",
          "data": {
            "text/plain": [
              "Index(['loan_status'], dtype='object')"
            ]
          },
          "metadata": {
            "tags": []
          },
          "execution_count": 94
        }
      ]
    },
    {
      "cell_type": "markdown",
      "metadata": {
        "id": "MQvNd9dMobjA",
        "colab_type": "text"
      },
      "source": [
        "## Train Test Split"
      ]
    },
    {
      "cell_type": "markdown",
      "metadata": {
        "id": "EL6I1lYUohmu",
        "colab_type": "text"
      },
      "source": [
        "**TASK: Import train_test_split from sklearn.**"
      ]
    },
    {
      "cell_type": "code",
      "metadata": {
        "id": "N6SCHHFVoilT",
        "colab_type": "code",
        "colab": {}
      },
      "source": [
        "from sklearn.model_selection import train_test_split"
      ],
      "execution_count": 95,
      "outputs": []
    },
    {
      "cell_type": "markdown",
      "metadata": {
        "id": "-cT2ONEOorKD",
        "colab_type": "text"
      },
      "source": [
        "**TASK: drop the load_status column we created earlier, since its a duplicate of the loan_repaid column. We'll use the loan_repaid column since its already in 0s and 1s.**"
      ]
    },
    {
      "cell_type": "code",
      "metadata": {
        "id": "RcTWyuoQouSW",
        "colab_type": "code",
        "colab": {}
      },
      "source": [
        "df = df.drop('loan_status',axis=1)"
      ],
      "execution_count": 96,
      "outputs": []
    },
    {
      "cell_type": "markdown",
      "metadata": {
        "id": "llX22E4Uo0LH",
        "colab_type": "text"
      },
      "source": [
        "**TASK: Set X and y variables to the .values of the features and label.**"
      ]
    },
    {
      "cell_type": "code",
      "metadata": {
        "id": "p4CeXAvwo27k",
        "colab_type": "code",
        "colab": {}
      },
      "source": [
        "X = df.drop('loan_repaid',axis=1).values\n",
        "y = df['loan_repaid'].values"
      ],
      "execution_count": 97,
      "outputs": []
    },
    {
      "cell_type": "markdown",
      "metadata": {
        "id": "QV56GK0QpKqZ",
        "colab_type": "text"
      },
      "source": [
        "----\n",
        "----\n",
        "\n",
        "# OPTIONAL\n",
        "\n",
        "## Grabbing a Sample for Training Time\n",
        "\n",
        "### OPTIONAL: Use .sample() to grab a sample of the 490k+ entries to save time on training. Highly recommended for lower RAM computers or if you are not using GPU.\n",
        "\n",
        "----\n",
        "----"
      ]
    },
    {
      "cell_type": "code",
      "metadata": {
        "id": "34tAI3FepN3w",
        "colab_type": "code",
        "colab": {
          "base_uri": "https://localhost:8080/",
          "height": 35
        },
        "outputId": "f2d77f5c-4839-4a28-aea7-a3cd49691fee"
      },
      "source": [
        "# df = df.sample(frac=0.1,random_state=101)\n",
        "print(len(df))"
      ],
      "execution_count": 98,
      "outputs": [
        {
          "output_type": "stream",
          "text": [
            "395219\n"
          ],
          "name": "stdout"
        }
      ]
    },
    {
      "cell_type": "code",
      "metadata": {
        "id": "gTD533-0pTJX",
        "colab_type": "code",
        "colab": {}
      },
      "source": [
        "#TASK: Perform a train/test split with test_size=0.2 and a random_state of 101.\n",
        "X_train, X_test, y_train, y_test = train_test_split(X, y, test_size=0.20, random_state=101)"
      ],
      "execution_count": 99,
      "outputs": []
    },
    {
      "cell_type": "markdown",
      "metadata": {
        "id": "UGSG3uxrpZbp",
        "colab_type": "text"
      },
      "source": [
        "## Normalizing the Data\n",
        "\n",
        "**TASK: Use a MinMaxScaler to normalize the feature data X_train and X_test. Recall we don't want data leakge from the test set so we only fit on the X_train data.**"
      ]
    },
    {
      "cell_type": "markdown",
      "metadata": {
        "id": "25mydQQVpZoM",
        "colab_type": "text"
      },
      "source": [
        ""
      ]
    },
    {
      "cell_type": "code",
      "metadata": {
        "id": "49ETFzSHpbQG",
        "colab_type": "code",
        "colab": {}
      },
      "source": [
        "from sklearn.preprocessing import MinMaxScaler\n",
        "scaler = MinMaxScaler()\n",
        "X_train = scaler.fit_transform(X_train)\n",
        "X_test = scaler.transform(X_test)"
      ],
      "execution_count": 100,
      "outputs": []
    },
    {
      "cell_type": "markdown",
      "metadata": {
        "id": "oIT_IH5Zpm_T",
        "colab_type": "text"
      },
      "source": [
        "# Creating the Model\n",
        "\n",
        "**TASK: Run the cell below to import the necessary Keras functions.**"
      ]
    },
    {
      "cell_type": "code",
      "metadata": {
        "id": "QaW-QY8ypqD0",
        "colab_type": "code",
        "colab": {}
      },
      "source": [
        "import tensorflow as tf\n",
        "from tensorflow.keras.models import Sequential\n",
        "from tensorflow.keras.layers import Dense, Activation,Dropout\n",
        "from tensorflow.keras.constraints import max_norm"
      ],
      "execution_count": 101,
      "outputs": []
    },
    {
      "cell_type": "markdown",
      "metadata": {
        "id": "WzpSPEn6pyie",
        "colab_type": "text"
      },
      "source": [
        "**TASK: Build a sequential model to will be trained on the data. You have unlimited options here, but here is what the solution uses: a model that goes 78 --> 39 --> 19--> 1 output neuron. OPTIONAL: Explore adding [Dropout layers](https://keras.io/layers/core/) [1](https://en.wikipedia.org/wiki/Dropout_(neural_networks)) [2](https://towardsdatascience.com/machine-learning-part-20-dropout-keras-layers-explained-8c9f6dc4c9ab)**"
      ]
    },
    {
      "cell_type": "code",
      "metadata": {
        "id": "AAEp13TQp3La",
        "colab_type": "code",
        "colab": {}
      },
      "source": [
        "model = Sequential()\n",
        "\n",
        "# https://stats.stackexchange.com/questions/181/how-to-choose-the-number-of-hidden-layers-and-nodes-in-a-feedforward-neural-netw\n",
        "\n",
        "\n",
        "# input layer\n",
        "model.add(Dense(78,  activation='relu'))\n",
        "model.add(Dropout(0.2))\n",
        "\n",
        "# hidden layer\n",
        "model.add(Dense(39, activation='relu'))\n",
        "model.add(Dropout(0.2))\n",
        "\n",
        "# hidden layer\n",
        "model.add(Dense(19, activation='relu'))\n",
        "model.add(Dropout(0.2))\n",
        "\n",
        "# output layer\n",
        "model.add(Dense(units=1,activation='sigmoid'))\n",
        "\n",
        "# Compile model\n",
        "model.compile(loss='binary_crossentropy', optimizer='adam')"
      ],
      "execution_count": 102,
      "outputs": []
    },
    {
      "cell_type": "markdown",
      "metadata": {
        "id": "_kaw133op9qg",
        "colab_type": "text"
      },
      "source": [
        "**TASK: Fit the model to the training data for at least 25 epochs. Also add in the validation data for later plotting. Optional: add in a batch_size of 256.**"
      ]
    },
    {
      "cell_type": "code",
      "metadata": {
        "id": "nlQxjAgOp_5b",
        "colab_type": "code",
        "colab": {
          "base_uri": "https://localhost:8080/",
          "height": 35
        },
        "outputId": "581cf9d9-d856-4bcb-d734-9a31a53bc651"
      },
      "source": [
        "model.fit(x=X_train, \n",
        "          y=y_train, \n",
        "          epochs=25,\n",
        "          batch_size=256,\n",
        "          validation_data=(X_test, y_test), \n",
        "          verbose=0\n",
        "          )"
      ],
      "execution_count": 103,
      "outputs": [
        {
          "output_type": "execute_result",
          "data": {
            "text/plain": [
              "<tensorflow.python.keras.callbacks.History at 0x7fc3d04b1748>"
            ]
          },
          "metadata": {
            "tags": []
          },
          "execution_count": 103
        }
      ]
    },
    {
      "cell_type": "markdown",
      "metadata": {
        "id": "0Xert3sQqGoR",
        "colab_type": "text"
      },
      "source": [
        "**TASK: OPTIONAL: Save your model.**"
      ]
    },
    {
      "cell_type": "code",
      "metadata": {
        "id": "4O-RRQ5iqIty",
        "colab_type": "code",
        "colab": {}
      },
      "source": [
        "from tensorflow.keras.models import load_model"
      ],
      "execution_count": 104,
      "outputs": []
    },
    {
      "cell_type": "code",
      "metadata": {
        "id": "WpIw3BV4qK2X",
        "colab_type": "code",
        "colab": {}
      },
      "source": [
        "model.save('full_data_project_model.h5')  \n",
        "#Se guarda en archivos Colab, desde alli se puede descargar"
      ],
      "execution_count": 106,
      "outputs": []
    },
    {
      "cell_type": "markdown",
      "metadata": {
        "id": "xTkB-Xyzu8Z8",
        "colab_type": "text"
      },
      "source": [
        "![image.png](data:image/png;base64,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)"
      ]
    },
    {
      "cell_type": "markdown",
      "metadata": {
        "id": "CUOu-znBqOYm",
        "colab_type": "text"
      },
      "source": [
        "# Section 3: Evaluating Model Performance.\n",
        "\n",
        "**TASK: Plot out the validation loss versus the training loss.**"
      ]
    },
    {
      "cell_type": "code",
      "metadata": {
        "id": "kFoCar7AqSm2",
        "colab_type": "code",
        "colab": {}
      },
      "source": [
        "losses = pd.DataFrame(model.history.history)"
      ],
      "execution_count": 107,
      "outputs": []
    },
    {
      "cell_type": "code",
      "metadata": {
        "id": "rOo7_3kLqUVk",
        "colab_type": "code",
        "colab": {
          "base_uri": "https://localhost:8080/",
          "height": 283
        },
        "outputId": "d779c979-fe02-4956-9541-d1346815bb56"
      },
      "source": [
        "losses[['loss','val_loss']].plot()"
      ],
      "execution_count": 108,
      "outputs": [
        {
          "output_type": "execute_result",
          "data": {
            "text/plain": [
              "<matplotlib.axes._subplots.AxesSubplot at 0x7fc3e40b3a20>"
            ]
          },
          "metadata": {
            "tags": []
          },
          "execution_count": 108
        },
        {
          "output_type": "display_data",
          "data": {
            "image/png": "[encoded data removed]",
            "text/plain": [
              "<Figure size 432x288 with 1 Axes>"
            ]
          },
          "metadata": {
            "tags": [],
            "needs_background": "light"
          }
        }
      ]
    },
    {
      "cell_type": "markdown",
      "metadata": {
        "id": "r9PXoguDqYSA",
        "colab_type": "text"
      },
      "source": [
        "**TASK: Create predictions from the X_test set and display a classification report and confusion matrix for the X_test set.**"
      ]
    },
    {
      "cell_type": "code",
      "metadata": {
        "id": "_oOIjdp5qaW0",
        "colab_type": "code",
        "colab": {}
      },
      "source": [
        "from sklearn.metrics import classification_report,confusion_matrix"
      ],
      "execution_count": 109,
      "outputs": []
    },
    {
      "cell_type": "code",
      "metadata": {
        "id": "z9nK1E1QqcSs",
        "colab_type": "code",
        "colab": {
          "base_uri": "https://localhost:8080/",
          "height": 90
        },
        "outputId": "ac8da4f8-1072-4ac5-9191-9e8b147a4add"
      },
      "source": [
        "predictions = model.predict_classes(X_test)"
      ],
      "execution_count": 110,
      "outputs": [
        {
          "output_type": "stream",
          "text": [
            "WARNING:tensorflow:From <ipython-input-110-bc83193b8b59>:1: Sequential.predict_classes (from tensorflow.python.keras.engine.sequential) is deprecated and will be removed after 2021-01-01.\n",
            "Instructions for updating:\n",
            "Please use instead:* `np.argmax(model.predict(x), axis=-1)`,   if your model does multi-class classification   (e.g. if it uses a `softmax` last-layer activation).* `(model.predict(x) > 0.5).astype(\"int32\")`,   if your model does binary classification   (e.g. if it uses a `sigmoid` last-layer activation).\n"
          ],
          "name": "stdout"
        }
      ]
    },
    {
      "cell_type": "code",
      "metadata": {
        "id": "uxnL2LHBqeI-",
        "colab_type": "code",
        "colab": {
          "base_uri": "https://localhost:8080/",
          "height": 177
        },
        "outputId": "41eb84dc-fd88-40d9-95a6-7dc59e10ed94"
      },
      "source": [
        "print(classification_report(y_test,predictions))"
      ],
      "execution_count": 111,
      "outputs": [
        {
          "output_type": "stream",
          "text": [
            "              precision    recall  f1-score   support\n",
            "\n",
            "           0       0.98      0.44      0.61     15658\n",
            "           1       0.88      1.00      0.93     63386\n",
            "\n",
            "    accuracy                           0.89     79044\n",
            "   macro avg       0.93      0.72      0.77     79044\n",
            "weighted avg       0.90      0.89      0.87     79044\n",
            "\n"
          ],
          "name": "stdout"
        }
      ]
    },
    {
      "cell_type": "code",
      "metadata": {
        "id": "zJbhO46QqhCA",
        "colab_type": "code",
        "colab": {
          "base_uri": "https://localhost:8080/",
          "height": 52
        },
        "outputId": "004fe045-eb0b-4d93-c9b3-dc33d239dd18"
      },
      "source": [
        "confusion_matrix(y_test,predictions)"
      ],
      "execution_count": 112,
      "outputs": [
        {
          "output_type": "execute_result",
          "data": {
            "text/plain": [
              "array([[ 6950,  8708],\n",
              "       [  178, 63208]])"
            ]
          },
          "metadata": {
            "tags": []
          },
          "execution_count": 112
        }
      ]
    },
    {
      "cell_type": "markdown",
      "metadata": {
        "id": "-lHXrsmlqkl_",
        "colab_type": "text"
      },
      "source": [
        "**TASK: Given the customer below, would you offer this person a loan?**"
      ]
    },
    {
      "cell_type": "code",
      "metadata": {
        "id": "AIvOPv9fqmmO",
        "colab_type": "code",
        "colab": {
          "base_uri": "https://localhost:8080/",
          "height": 230
        },
        "outputId": "5cf381f3-7285-42dd-b83c-9af546fa4c7e"
      },
      "source": [
        "import random\n",
        "random.seed(101)\n",
        "random_ind = random.randint(0,len(df))\n",
        "\n",
        "new_customer = df.drop('loan_repaid',axis=1).iloc[random_ind]\n",
        "new_customer"
      ],
      "execution_count": 113,
      "outputs": [
        {
          "output_type": "execute_result",
          "data": {
            "text/plain": [
              "loan_amnt           25000.00\n",
              "term                   60.00\n",
              "int_rate               18.24\n",
              "installment           638.11\n",
              "annual_inc          61665.00\n",
              "                      ...   \n",
              "48052                   0.00\n",
              "70466                   0.00\n",
              "86630                   0.00\n",
              "93700                   0.00\n",
              "earliest_cr_year     1996.00\n",
              "Name: 305323, Length: 78, dtype: float64"
            ]
          },
          "metadata": {
            "tags": []
          },
          "execution_count": 113
        }
      ]
    },
    {
      "cell_type": "code",
      "metadata": {
        "id": "iXCL4_j_qpd6",
        "colab_type": "code",
        "colab": {
          "base_uri": "https://localhost:8080/",
          "height": 35
        },
        "outputId": "570a1170-3b8a-43ed-ea13-dff79bb5386f"
      },
      "source": [
        "model.predict_classes(new_customer.values.reshape(1,78))"
      ],
      "execution_count": 114,
      "outputs": [
        {
          "output_type": "execute_result",
          "data": {
            "text/plain": [
              "array([[1]], dtype=int32)"
            ]
          },
          "metadata": {
            "tags": []
          },
          "execution_count": 114
        }
      ]
    },
    {
      "cell_type": "markdown",
      "metadata": {
        "id": "m8y3Ii1BqsMk",
        "colab_type": "text"
      },
      "source": [
        "**TASK: Now check, did this person actually end up paying back their loan?**"
      ]
    },
    {
      "cell_type": "code",
      "metadata": {
        "id": "ZpxPDEQSquVW",
        "colab_type": "code",
        "colab": {
          "base_uri": "https://localhost:8080/",
          "height": 35
        },
        "outputId": "54d3efe5-2979-4b59-bd88-4afcd9d692ec"
      },
      "source": [
        "df.iloc[random_ind]['loan_repaid'] #1: Yes ,  0: No ver lineas arriba"
      ],
      "execution_count": 115,
      "outputs": [
        {
          "output_type": "execute_result",
          "data": {
            "text/plain": [
              "1.0"
            ]
          },
          "metadata": {
            "tags": []
          },
          "execution_count": 115
        }
      ]
    },
    {
      "cell_type": "markdown",
      "metadata": {
        "id": "nTsIDdKdqwy5",
        "colab_type": "text"
      },
      "source": [
        "# GREAT JOB!"
      ]
    }
  ]
}