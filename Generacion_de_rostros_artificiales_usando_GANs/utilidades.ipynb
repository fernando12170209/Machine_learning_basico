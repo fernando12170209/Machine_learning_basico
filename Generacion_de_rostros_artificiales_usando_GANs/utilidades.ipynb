{
  "nbformat": 4,
  "nbformat_minor": 0,
  "metadata": {
    "colab": {
      "name": "utilidades.ipynb",
      "provenance": [],
      "authorship_tag": "ABX9TyPLt5nHo7EJ7gheGwW0GjRg",
      "include_colab_link": true
    },
    "kernelspec": {
      "name": "python3",
      "display_name": "Python 3"
    }
  },
  "cells": [
    {
      "cell_type": "markdown",
      "metadata": {
        "id": "view-in-github",
        "colab_type": "text"
      },
      "source": [
        "<a href=\"https://colab.research.google.com/github/fernando12170209/Machine_learning_basico/blob/master/Generacion_de_rostros_artificiales_usando_GANs/utilidades.ipynb\" target=\"_parent\"><img src=\"https://colab.research.google.com/assets/colab-badge.svg\" alt=\"Open In Colab\"/></a>"
      ]
    },
    {
      "cell_type": "code",
      "metadata": {
        "id": "uPVKJOKKqzMu",
        "colab_type": "code",
        "colab": {}
      },
      "source": [
        "dataset = \"./dataset\"\n",
        "ejemplos = \"./ejemplos\"\n",
        "\n",
        "import os\n",
        "from imageio import imread, imwrite\n",
        "import numpy as np\n",
        "import matplotlib.pyplot as plt\n",
        "\n",
        "# Creación del set de entrenamiento\n",
        "def cargar_datos():\n",
        "\tprint('Creando set de entrenamiento...',end=\"\",flush=True)\n",
        "\tfilelist = os.listdir(dataset)\n",
        "\n",
        "\tn_imgs = len(filelist)\n",
        "\tx_train = np.zeros((n_imgs,128,128,3))\n",
        "\n",
        "\tfor i, fname in enumerate(filelist):\n",
        "\t\tif fname != '.DS_Store':\n",
        "\t\t\timagen = imread(os.path.join(dataset,fname))\n",
        "\t\t\tx_train[i,:] = (imagen - 127.5)/127.5\n",
        "\tprint('¡Listo!')\n",
        "\n",
        "\treturn x_train\n",
        "\n",
        "# Visualizar imágenes del set de entrenamiento\n",
        "def visualizar_imagen(nimagen,x_train):\n",
        "\timagen = (x_train[nimagen,:]*127.5) + 127.5\n",
        "\timagen = np.ndarray.astype(imagen, np.uint8)\n",
        "\tplt.imshow(imagen.reshape(128,128,3))\n",
        "\tplt.axis('off')\n",
        "\tplt.show()\n",
        "\n",
        "# Visualización de algunas imagenes obtenidas con el generador\n",
        "def graficar_imagenes_generadas(epoch, generador, ejemplos=16, dim=(4,4), figsize=(10,10)):\n",
        "    ruido = np.random.normal(0,1,[ejemplos,100])\n",
        "    imagenes_generadas = generador.predict(ruido)\n",
        "    imagenes_generadas.reshape(ejemplos,128,128,3)\n",
        "    imagenes_generadas = imagenes_generadas*127.5 + 127.5\n",
        "    plt.figure(figsize=figsize)\n",
        "    for i in range(ejemplos):\n",
        "        plt.subplot(dim[0],dim[1], i+1)\n",
        "        plt.imshow(imagenes_generadas[i].astype('uint8'), interpolation='nearest')\n",
        "        plt.axis('off')\n",
        "    plt.tight_layout()\n",
        "    plt.savefig('GAN_imagen_generada_%d.png' %epoch)\n",
        "    plt.close()\n",
        "\n",
        "# Generar imágenes ejemplo\n",
        "def generar_imagenes(generador,nimagenes):\n",
        "\truido = np.random.normal(0,1,[nimagenes,100])\n",
        "\timagenes_generadas = generador.predict(ruido)\n",
        "\timagenes_generadas.reshape(nimagenes,128,128,3)\n",
        "\timagenes_generadas = imagenes_generadas*127.5 + 127.5\n",
        "\timagenes_generadas.astype('uint8')\n",
        "\tfor i in range(nimagenes):\n",
        "\t\timwrite(os.path.join(ejemplos,'ejemplo_'+str(i)+'.png'),imagenes_generadas[i].reshape(128,128,3))"
      ],
      "execution_count": null,
      "outputs": []
    }
  ]
}